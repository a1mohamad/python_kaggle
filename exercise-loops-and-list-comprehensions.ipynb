{
 "cells": [
  {
   "cell_type": "markdown",
   "id": "6fac23a7",
   "metadata": {
    "papermill": {
     "duration": 0.003959,
     "end_time": "2025-03-05T21:01:40.363391",
     "exception": false,
     "start_time": "2025-03-05T21:01:40.359432",
     "status": "completed"
    },
    "tags": []
   },
   "source": [
    "**This notebook is an exercise in the [Python](https://www.kaggle.com/learn/python) course.  You can reference the tutorial at [this link](https://www.kaggle.com/colinmorris/loops-and-list-comprehensions).**\n",
    "\n",
    "---\n"
   ]
  },
  {
   "cell_type": "markdown",
   "id": "c14b1463",
   "metadata": {
    "papermill": {
     "duration": 0.002681,
     "end_time": "2025-03-05T21:01:40.369366",
     "exception": false,
     "start_time": "2025-03-05T21:01:40.366685",
     "status": "completed"
    },
    "tags": []
   },
   "source": [
    "With all you've learned, you can start writing much more interesting programs. See if you can solve the problems below.\n",
    "\n",
    "As always, run the setup code below before working on the questions."
   ]
  },
  {
   "cell_type": "code",
   "execution_count": 1,
   "id": "5d7882b6",
   "metadata": {
    "execution": {
     "iopub.execute_input": "2025-03-05T21:01:40.376529Z",
     "iopub.status.busy": "2025-03-05T21:01:40.376252Z",
     "iopub.status.idle": "2025-03-05T21:01:41.512302Z",
     "shell.execute_reply": "2025-03-05T21:01:41.511096Z"
    },
    "papermill": {
     "duration": 1.141214,
     "end_time": "2025-03-05T21:01:41.513532",
     "exception": false,
     "start_time": "2025-03-05T21:01:40.372318",
     "status": "completed"
    },
    "tags": []
   },
   "outputs": [
    {
     "name": "stdout",
     "output_type": "stream",
     "text": [
      "Setup complete.\n"
     ]
    }
   ],
   "source": [
    "from learntools.core import binder; binder.bind(globals())\n",
    "from learntools.python.ex5 import *\n",
    "print('Setup complete.')"
   ]
  },
  {
   "cell_type": "markdown",
   "id": "be7e6c6f",
   "metadata": {
    "papermill": {
     "duration": 0.002954,
     "end_time": "2025-03-05T21:01:41.519829",
     "exception": false,
     "start_time": "2025-03-05T21:01:41.516875",
     "status": "completed"
    },
    "tags": []
   },
   "source": [
    "# 1.\n",
    "\n",
    "Have you ever felt debugging involved a bit of luck? The following program has a bug. Try to identify the bug and fix it."
   ]
  },
  {
   "cell_type": "code",
   "execution_count": 2,
   "id": "611a89e6",
   "metadata": {
    "execution": {
     "iopub.execute_input": "2025-03-05T21:01:41.527157Z",
     "iopub.status.busy": "2025-03-05T21:01:41.526656Z",
     "iopub.status.idle": "2025-03-05T21:01:41.531058Z",
     "shell.execute_reply": "2025-03-05T21:01:41.530193Z"
    },
    "papermill": {
     "duration": 0.01001,
     "end_time": "2025-03-05T21:01:41.532828",
     "exception": false,
     "start_time": "2025-03-05T21:01:41.522818",
     "status": "completed"
    },
    "tags": []
   },
   "outputs": [],
   "source": [
    "def has_lucky_number(nums):\n",
    "    \"\"\"Return whether the given list of numbers is lucky. A lucky list contains\n",
    "    at least one number divisible by 7.\n",
    "    \"\"\"\n",
    "    for num in nums:\n",
    "        if num % 7 == 0:\n",
    "            return True\n",
    "        else:\n",
    "            return False"
   ]
  },
  {
   "cell_type": "markdown",
   "id": "aec38d09",
   "metadata": {
    "papermill": {
     "duration": 0.003159,
     "end_time": "2025-03-05T21:01:41.539969",
     "exception": false,
     "start_time": "2025-03-05T21:01:41.536810",
     "status": "completed"
    },
    "tags": []
   },
   "source": [
    "Try to identify the bug and fix it in the cell below:"
   ]
  },
  {
   "cell_type": "code",
   "execution_count": 3,
   "id": "d1f66d1a",
   "metadata": {
    "execution": {
     "iopub.execute_input": "2025-03-05T21:01:41.547299Z",
     "iopub.status.busy": "2025-03-05T21:01:41.547025Z",
     "iopub.status.idle": "2025-03-05T21:01:41.553101Z",
     "shell.execute_reply": "2025-03-05T21:01:41.552433Z"
    },
    "papermill": {
     "duration": 0.011571,
     "end_time": "2025-03-05T21:01:41.554790",
     "exception": false,
     "start_time": "2025-03-05T21:01:41.543219",
     "status": "completed"
    },
    "tags": []
   },
   "outputs": [
    {
     "data": {
      "application/javascript": [
       "parent.postMessage({\"jupyterEvent\": \"custom.exercise_interaction\", \"data\": {\"outcomeType\": 1, \"valueTowardsCompletion\": 0.25, \"interactionType\": 1, \"questionType\": 2, \"questionId\": \"1_EarlyExitDebugging\", \"learnToolsVersion\": \"0.3.4\", \"failureMessage\": \"\", \"exceptionClass\": \"\", \"trace\": \"\"}}, \"*\")"
      ],
      "text/plain": [
       "<IPython.core.display.Javascript object>"
      ]
     },
     "metadata": {},
     "output_type": "display_data"
    },
    {
     "data": {
      "text/markdown": [
       "<span style=\"color:#33cc33\">Correct:</span> \n",
       "\n",
       "Remember that `return` causes a function to exit immediately. So our original implementation always ran for just one iteration. We can only return `False` if we've looked at every element of the list (and confirmed that none of them are lucky). Though we can return early if the answer is `True`:\n",
       "\n",
       "```python\n",
       "def has_lucky_number(nums):\n",
       "    for num in nums:\n",
       "        if num % 7 == 0:\n",
       "            return True\n",
       "    # We've exhausted the list without finding a lucky number\n",
       "    return False\n",
       "```\n",
       "\n",
       "Here's a one-line version using a list comprehension with Python's `any` function (you can read about what it does by calling `help(any)`):\n",
       "\n",
       "```python\n",
       "def has_lucky_number(nums):\n",
       "    return any([num % 7 == 0 for num in nums])\n",
       "```\n"
      ],
      "text/plain": [
       "Correct: \n",
       "\n",
       "Remember that `return` causes a function to exit immediately. So our original implementation always ran for just one iteration. We can only return `False` if we've looked at every element of the list (and confirmed that none of them are lucky). Though we can return early if the answer is `True`:\n",
       "\n",
       "```python\n",
       "def has_lucky_number(nums):\n",
       "    for num in nums:\n",
       "        if num % 7 == 0:\n",
       "            return True\n",
       "    # We've exhausted the list without finding a lucky number\n",
       "    return False\n",
       "```\n",
       "\n",
       "Here's a one-line version using a list comprehension with Python's `any` function (you can read about what it does by calling `help(any)`):\n",
       "\n",
       "```python\n",
       "def has_lucky_number(nums):\n",
       "    return any([num % 7 == 0 for num in nums])\n",
       "```"
      ]
     },
     "metadata": {},
     "output_type": "display_data"
    }
   ],
   "source": [
    "def has_lucky_number(nums):\n",
    "    \"\"\"Return whether the given list of numbers is lucky. A lucky list contains\n",
    "    at least one number divisible by 7.\n",
    "    \"\"\"\n",
    "    return any([num% 7== 0 for num in nums])\n",
    "\n",
    "# Check your answer\n",
    "q1.check()"
   ]
  },
  {
   "cell_type": "code",
   "execution_count": 4,
   "id": "0681c5c0",
   "metadata": {
    "execution": {
     "iopub.execute_input": "2025-03-05T21:01:41.563245Z",
     "iopub.status.busy": "2025-03-05T21:01:41.562998Z",
     "iopub.status.idle": "2025-03-05T21:01:41.566168Z",
     "shell.execute_reply": "2025-03-05T21:01:41.565468Z"
    },
    "papermill": {
     "duration": 0.008682,
     "end_time": "2025-03-05T21:01:41.567492",
     "exception": false,
     "start_time": "2025-03-05T21:01:41.558810",
     "status": "completed"
    },
    "tags": []
   },
   "outputs": [],
   "source": [
    "# q1.hint()\n",
    "def has_lucky_number(nums):\n",
    "    for num in nums:\n",
    "        if num % 7 == 0:\n",
    "            return True\n",
    "    # We've exhausted the list \n",
    "# q1.solution()"
   ]
  },
  {
   "cell_type": "markdown",
   "id": "1cc6e793",
   "metadata": {
    "papermill": {
     "duration": 0.003067,
     "end_time": "2025-03-05T21:01:41.574350",
     "exception": false,
     "start_time": "2025-03-05T21:01:41.571283",
     "status": "completed"
    },
    "tags": []
   },
   "source": [
    "# 2.\n",
    "Look at the Python expression below. What do you think we'll get when we run it? When you've made your prediction, uncomment the code and run the cell to see if you were right."
   ]
  },
  {
   "cell_type": "code",
   "execution_count": 5,
   "id": "42d5a97c",
   "metadata": {
    "execution": {
     "iopub.execute_input": "2025-03-05T21:01:41.581414Z",
     "iopub.status.busy": "2025-03-05T21:01:41.581208Z",
     "iopub.status.idle": "2025-03-05T21:01:41.584350Z",
     "shell.execute_reply": "2025-03-05T21:01:41.583434Z"
    },
    "papermill": {
     "duration": 0.007976,
     "end_time": "2025-03-05T21:01:41.585490",
     "exception": false,
     "start_time": "2025-03-05T21:01:41.577514",
     "status": "completed"
    },
    "tags": []
   },
   "outputs": [],
   "source": [
    "# [1, 2, 3, 4] > 2"
   ]
  },
  {
   "cell_type": "markdown",
   "id": "7a5f7a6a",
   "metadata": {
    "papermill": {
     "duration": 0.002948,
     "end_time": "2025-03-05T21:01:41.591616",
     "exception": false,
     "start_time": "2025-03-05T21:01:41.588668",
     "status": "completed"
    },
    "tags": []
   },
   "source": [
    "R and Python have some libraries (like numpy and pandas) compare each element of the list to 2 (i.e. do an 'element-wise' comparison) and give us a list of booleans like `[False, False, True, True]`. \n",
    "\n",
    "Implement a function that reproduces this behaviour, returning a list of booleans corresponding to whether the corresponding element is greater than n."
   ]
  },
  {
   "cell_type": "code",
   "execution_count": 6,
   "id": "12ba05e8",
   "metadata": {
    "execution": {
     "iopub.execute_input": "2025-03-05T21:01:41.598838Z",
     "iopub.status.busy": "2025-03-05T21:01:41.598540Z",
     "iopub.status.idle": "2025-03-05T21:01:41.605041Z",
     "shell.execute_reply": "2025-03-05T21:01:41.604323Z"
    },
    "papermill": {
     "duration": 0.01153,
     "end_time": "2025-03-05T21:01:41.606230",
     "exception": false,
     "start_time": "2025-03-05T21:01:41.594700",
     "status": "completed"
    },
    "tags": []
   },
   "outputs": [
    {
     "data": {
      "application/javascript": [
       "parent.postMessage({\"jupyterEvent\": \"custom.exercise_interaction\", \"data\": {\"outcomeType\": 1, \"valueTowardsCompletion\": 0.25, \"interactionType\": 1, \"questionType\": 2, \"questionId\": \"2_ElementWiseComparison\", \"learnToolsVersion\": \"0.3.4\", \"failureMessage\": \"\", \"exceptionClass\": \"\", \"trace\": \"\"}}, \"*\")"
      ],
      "text/plain": [
       "<IPython.core.display.Javascript object>"
      ]
     },
     "metadata": {},
     "output_type": "display_data"
    },
    {
     "data": {
      "text/markdown": [
       "<span style=\"color:#33cc33\">Correct:</span> \n",
       "\n",
       "Here's one solution:\n",
       "```python\n",
       "def elementwise_greater_than(L, thresh):\n",
       "    res = []\n",
       "    for ele in L:\n",
       "        res.append(ele > thresh)\n",
       "    return res\n",
       "```\n",
       "\n",
       "And here's the list comprehension version:\n",
       "```python\n",
       "def elementwise_greater_than(L, thresh):\n",
       "    return [ele > thresh for ele in L]\n",
       "```\n"
      ],
      "text/plain": [
       "Correct: \n",
       "\n",
       "Here's one solution:\n",
       "```python\n",
       "def elementwise_greater_than(L, thresh):\n",
       "    res = []\n",
       "    for ele in L:\n",
       "        res.append(ele > thresh)\n",
       "    return res\n",
       "```\n",
       "\n",
       "And here's the list comprehension version:\n",
       "```python\n",
       "def elementwise_greater_than(L, thresh):\n",
       "    return [ele > thresh for ele in L]\n",
       "```"
      ]
     },
     "metadata": {},
     "output_type": "display_data"
    }
   ],
   "source": [
    "def elementwise_greater_than(L, thresh):\n",
    "    \"\"\"Return a list with the same length as L, where the value at index i is \n",
    "    True if L[i] is greater than thresh, and False otherwise.\n",
    "    \n",
    "    >>> elementwise_greater_than([1, 2, 3, 4], 2)\n",
    "    [False, False, True, True]\n",
    "    \"\"\"\n",
    "    return [i> thresh for i in L]\n",
    "\n",
    "# Check your answer\n",
    "q2.check()"
   ]
  },
  {
   "cell_type": "code",
   "execution_count": 7,
   "id": "fd176d1f",
   "metadata": {
    "execution": {
     "iopub.execute_input": "2025-03-05T21:01:41.613926Z",
     "iopub.status.busy": "2025-03-05T21:01:41.613724Z",
     "iopub.status.idle": "2025-03-05T21:01:41.616956Z",
     "shell.execute_reply": "2025-03-05T21:01:41.616043Z"
    },
    "papermill": {
     "duration": 0.008605,
     "end_time": "2025-03-05T21:01:41.618397",
     "exception": false,
     "start_time": "2025-03-05T21:01:41.609792",
     "status": "completed"
    },
    "tags": []
   },
   "outputs": [],
   "source": [
    "#q2.solution()"
   ]
  },
  {
   "cell_type": "markdown",
   "id": "880f4035",
   "metadata": {
    "papermill": {
     "duration": 0.003377,
     "end_time": "2025-03-05T21:01:41.625917",
     "exception": false,
     "start_time": "2025-03-05T21:01:41.622540",
     "status": "completed"
    },
    "tags": []
   },
   "source": [
    "# 3.\n",
    "\n",
    "Complete the body of the function below according to its docstring."
   ]
  },
  {
   "cell_type": "code",
   "execution_count": 8,
   "id": "d07da86a",
   "metadata": {
    "execution": {
     "iopub.execute_input": "2025-03-05T21:01:41.634424Z",
     "iopub.status.busy": "2025-03-05T21:01:41.634133Z",
     "iopub.status.idle": "2025-03-05T21:01:41.640126Z",
     "shell.execute_reply": "2025-03-05T21:01:41.639503Z"
    },
    "papermill": {
     "duration": 0.011617,
     "end_time": "2025-03-05T21:01:41.641186",
     "exception": false,
     "start_time": "2025-03-05T21:01:41.629569",
     "status": "completed"
    },
    "tags": []
   },
   "outputs": [
    {
     "data": {
      "application/javascript": [
       "parent.postMessage({\"jupyterEvent\": \"custom.exercise_interaction\", \"data\": {\"outcomeType\": 1, \"valueTowardsCompletion\": 0.25, \"interactionType\": 1, \"questionType\": 2, \"questionId\": \"3_BoringMenu\", \"learnToolsVersion\": \"0.3.4\", \"failureMessage\": \"\", \"exceptionClass\": \"\", \"trace\": \"\"}}, \"*\")"
      ],
      "text/plain": [
       "<IPython.core.display.Javascript object>"
      ]
     },
     "metadata": {},
     "output_type": "display_data"
    },
    {
     "data": {
      "text/markdown": [
       "<span style=\"color:#33cc33\">Correct:</span> \n",
       "\n",
       "\n",
       "\n",
       "```python\n",
       "def menu_is_boring(meals):\n",
       "    # Iterate over all indices of the list, except the last one\n",
       "    for i in range(len(meals)-1):\n",
       "        if meals[i] == meals[i+1]:\n",
       "            return True\n",
       "    return False\n",
       "```\n",
       "\n",
       "The key to our solution is the call to `range`. `range(len(meals))` would give us all the indices of `meals`. If we had used that range, the last iteration of the loop would be comparing the last element to the element after it, which is... `IndexError`! `range(len(meals)-1)` gives us all the indices except the index of the last element.\n",
       "\n",
       "But don't we need to check if `meals` is empty? Turns out that `range(0) == range(-1)` - they're both empty. So if `meals` has length 0 or 1, we just won't do any iterations of our for loop.\n"
      ],
      "text/plain": [
       "Correct: \n",
       "\n",
       "\n",
       "\n",
       "```python\n",
       "def menu_is_boring(meals):\n",
       "    # Iterate over all indices of the list, except the last one\n",
       "    for i in range(len(meals)-1):\n",
       "        if meals[i] == meals[i+1]:\n",
       "            return True\n",
       "    return False\n",
       "```\n",
       "\n",
       "The key to our solution is the call to `range`. `range(len(meals))` would give us all the indices of `meals`. If we had used that range, the last iteration of the loop would be comparing the last element to the element after it, which is... `IndexError`! `range(len(meals)-1)` gives us all the indices except the index of the last element.\n",
       "\n",
       "But don't we need to check if `meals` is empty? Turns out that `range(0) == range(-1)` - they're both empty. So if `meals` has length 0 or 1, we just won't do any iterations of our for loop."
      ]
     },
     "metadata": {},
     "output_type": "display_data"
    }
   ],
   "source": [
    "def menu_is_boring(meals):\n",
    "    \"\"\"Given a list of meals served over some period of time, return True if the\n",
    "    same meal has ever been served two days in a row, and False otherwise.\n",
    "    \"\"\"\n",
    "    for i in range(len(meals)- 1):\n",
    "        if meals[i]== meals[i+ 1]:\n",
    "            return True\n",
    "    return False\n",
    "\n",
    "# Check your answer\n",
    "q3.check()"
   ]
  },
  {
   "cell_type": "code",
   "execution_count": 9,
   "id": "13700fd5",
   "metadata": {
    "execution": {
     "iopub.execute_input": "2025-03-05T21:01:41.649516Z",
     "iopub.status.busy": "2025-03-05T21:01:41.649306Z",
     "iopub.status.idle": "2025-03-05T21:01:41.652561Z",
     "shell.execute_reply": "2025-03-05T21:01:41.651501Z"
    },
    "papermill": {
     "duration": 0.008604,
     "end_time": "2025-03-05T21:01:41.653733",
     "exception": false,
     "start_time": "2025-03-05T21:01:41.645129",
     "status": "completed"
    },
    "tags": []
   },
   "outputs": [],
   "source": [
    "#q3.hint()\n",
    "# q3.solution()"
   ]
  },
  {
   "cell_type": "markdown",
   "id": "777c3a4f",
   "metadata": {
    "papermill": {
     "duration": 0.003301,
     "end_time": "2025-03-05T21:01:41.660698",
     "exception": false,
     "start_time": "2025-03-05T21:01:41.657397",
     "status": "completed"
    },
    "tags": []
   },
   "source": [
    "# 4. <span title=\"A bit spicy\" style=\"color: darkgreen \">🌶️</span>\n",
    "\n",
    "Next to the Blackjack table, the Python Challenge Casino has a slot machine. You can get a result from the slot machine by calling `play_slot_machine()`. The number it returns is your winnings in dollars. Usually it returns 0.  But sometimes you'll get lucky and get a big payday. Try running it below:"
   ]
  },
  {
   "cell_type": "code",
   "execution_count": 10,
   "id": "4ca084ef",
   "metadata": {
    "execution": {
     "iopub.execute_input": "2025-03-05T21:01:41.669086Z",
     "iopub.status.busy": "2025-03-05T21:01:41.668731Z",
     "iopub.status.idle": "2025-03-05T21:01:41.674035Z",
     "shell.execute_reply": "2025-03-05T21:01:41.673280Z"
    },
    "papermill": {
     "duration": 0.011059,
     "end_time": "2025-03-05T21:01:41.675345",
     "exception": false,
     "start_time": "2025-03-05T21:01:41.664286",
     "status": "completed"
    },
    "tags": []
   },
   "outputs": [
    {
     "data": {
      "text/plain": [
       "0"
      ]
     },
     "execution_count": 10,
     "metadata": {},
     "output_type": "execute_result"
    }
   ],
   "source": [
    "play_slot_machine()"
   ]
  },
  {
   "cell_type": "markdown",
   "id": "387eda93",
   "metadata": {
    "papermill": {
     "duration": 0.003499,
     "end_time": "2025-03-05T21:01:41.682987",
     "exception": false,
     "start_time": "2025-03-05T21:01:41.679488",
     "status": "completed"
    },
    "tags": []
   },
   "source": [
    "By the way, did we mention that each play costs $1? Don't worry, we'll send you the bill later.\n",
    "\n",
    "On average, how much money can you expect to gain (or lose) every time you play the machine?  The casino keeps it a secret, but you can estimate the average value of each pull using a technique called the **Monte Carlo method**. To estimate the average outcome, we simulate the scenario many times, and return the average result.\n",
    "\n",
    "Complete the following function to calculate the average value per play of the slot machine."
   ]
  },
  {
   "cell_type": "code",
   "execution_count": 11,
   "id": "4d4c0de3",
   "metadata": {
    "execution": {
     "iopub.execute_input": "2025-03-05T21:01:41.691062Z",
     "iopub.status.busy": "2025-03-05T21:01:41.690836Z",
     "iopub.status.idle": "2025-03-05T21:01:41.694540Z",
     "shell.execute_reply": "2025-03-05T21:01:41.693775Z"
    },
    "papermill": {
     "duration": 0.009,
     "end_time": "2025-03-05T21:01:41.695663",
     "exception": false,
     "start_time": "2025-03-05T21:01:41.686663",
     "status": "completed"
    },
    "tags": []
   },
   "outputs": [],
   "source": [
    "def estimate_average_slot_payout(n_runs):\n",
    "    \"\"\"Run the slot machine n_runs times and return the average net profit per run.\n",
    "    Example calls (note that return value is nondeterministic!):\n",
    "    >>> estimate_average_slot_payout(1)\n",
    "    -1\n",
    "    >>> estimate_average_slot_payout(1)\n",
    "    0.5\n",
    "    \"\"\"\n",
    "    average= sum([play_slot_machine()- 1 for every in n_runs])/ n_runs\n",
    "    return average"
   ]
  },
  {
   "cell_type": "markdown",
   "id": "aa4b5a57",
   "metadata": {
    "papermill": {
     "duration": 0.003638,
     "end_time": "2025-03-05T21:01:41.703419",
     "exception": false,
     "start_time": "2025-03-05T21:01:41.699781",
     "status": "completed"
    },
    "tags": []
   },
   "source": [
    "When you think you know the expected value per spin, run the code cell below to view the solution and get credit for answering the question."
   ]
  },
  {
   "cell_type": "code",
   "execution_count": 12,
   "id": "757e5ee5",
   "metadata": {
    "execution": {
     "iopub.execute_input": "2025-03-05T21:01:41.711663Z",
     "iopub.status.busy": "2025-03-05T21:01:41.711443Z",
     "iopub.status.idle": "2025-03-05T21:01:41.716756Z",
     "shell.execute_reply": "2025-03-05T21:01:41.716132Z"
    },
    "papermill": {
     "duration": 0.01073,
     "end_time": "2025-03-05T21:01:41.717782",
     "exception": false,
     "start_time": "2025-03-05T21:01:41.707052",
     "status": "completed"
    },
    "tags": []
   },
   "outputs": [
    {
     "data": {
      "application/javascript": [
       "parent.postMessage({\"jupyterEvent\": \"custom.exercise_interaction\", \"data\": {\"interactionType\": 3, \"questionType\": 4, \"questionId\": \"4_ExpectedSlotsPayout\", \"learnToolsVersion\": \"0.3.4\", \"valueTowardsCompletion\": 0.0, \"failureMessage\": \"\", \"exceptionClass\": \"\", \"trace\": \"\", \"outcomeType\": 4}}, \"*\")"
      ],
      "text/plain": [
       "<IPython.core.display.Javascript object>"
      ]
     },
     "metadata": {},
     "output_type": "display_data"
    },
    {
     "data": {
      "text/markdown": [
       "<span style=\"color:#33cc99\">Solution:</span> \n",
       "    \n",
       "The exact expected value of one pull of the slot machine is 0.025 - i.e. a little more than 2 cents.  See?  Not every game in the Python Challenge Casino is rigged against the player!\n",
       "\n",
       "In order to get this answer, you'll need to implement the `estimate_average_slot_payout(n_runs)` function to simulate pulling the slot machine `n_runs` times.  It should return the payout averaged over those `n_runs`.\n",
       "\n",
       "Then, once the function is defined, in order to estimate the average slot payout, we need only call the function.\n",
       "\n",
       "Because of the high variance of the outcome (there are some very rare high payout results that significantly affect the average) you might need to run your function with a very high value of `n_runs` to get a stable answer close to the true expectation.  For instance, you might use a value for `n_runs` of 1000000.\n",
       "\n",
       "Here's an example for how the function could look:\n",
       "```python\n",
       "def estimate_average_slot_payout(n_runs):\n",
       "    # Play slot machine n_runs times, calculate payout of each\n",
       "    payouts = [play_slot_machine()-1 for i in range(n_runs)]\n",
       "    # Calculate the average value\n",
       "    avg_payout = sum(payouts) / n_runs\n",
       "    return avg_payout\n",
       "    \n",
       "estimate_average_slot_payout(10000000)\n",
       "\n",
       "```\n",
       "\n",
       "This should return an answer close to 0.025!\n",
       "            \n"
      ],
      "text/plain": [
       "Solution: \n",
       "    \n",
       "The exact expected value of one pull of the slot machine is 0.025 - i.e. a little more than 2 cents.  See?  Not every game in the Python Challenge Casino is rigged against the player!\n",
       "\n",
       "In order to get this answer, you'll need to implement the `estimate_average_slot_payout(n_runs)` function to simulate pulling the slot machine `n_runs` times.  It should return the payout averaged over those `n_runs`.\n",
       "\n",
       "Then, once the function is defined, in order to estimate the average slot payout, we need only call the function.\n",
       "\n",
       "Because of the high variance of the outcome (there are some very rare high payout results that significantly affect the average) you might need to run your function with a very high value of `n_runs` to get a stable answer close to the true expectation.  For instance, you might use a value for `n_runs` of 1000000.\n",
       "\n",
       "Here's an example for how the function could look:\n",
       "```python\n",
       "def estimate_average_slot_payout(n_runs):\n",
       "    # Play slot machine n_runs times, calculate payout of each\n",
       "    payouts = [play_slot_machine()-1 for i in range(n_runs)]\n",
       "    # Calculate the average value\n",
       "    avg_payout = sum(payouts) / n_runs\n",
       "    return avg_payout\n",
       "    \n",
       "estimate_average_slot_payout(10000000)\n",
       "\n",
       "```\n",
       "\n",
       "This should return an answer close to 0.025!\n",
       "            "
      ]
     },
     "metadata": {},
     "output_type": "display_data"
    }
   ],
   "source": [
    "# Check your answer (Run this code cell to receive credit!)\n",
    "q4.solution()"
   ]
  },
  {
   "cell_type": "markdown",
   "id": "ebc63267",
   "metadata": {
    "papermill": {
     "duration": 0.003851,
     "end_time": "2025-03-05T21:01:41.726156",
     "exception": false,
     "start_time": "2025-03-05T21:01:41.722305",
     "status": "completed"
    },
    "tags": []
   },
   "source": [
    "# Keep Going\n",
    "\n",
    "Many programmers report that dictionaries are their favorite data structure. You'll get to **[learn about them](https://www.kaggle.com/colinmorris/strings-and-dictionaries)** (as well as strings) in the next lesson."
   ]
  },
  {
   "cell_type": "markdown",
   "id": "743a5f89",
   "metadata": {
    "papermill": {
     "duration": 0.003667,
     "end_time": "2025-03-05T21:01:41.733755",
     "exception": false,
     "start_time": "2025-03-05T21:01:41.730088",
     "status": "completed"
    },
    "tags": []
   },
   "source": [
    "---\n",
    "\n",
    "\n",
    "\n",
    "\n",
    "*Have questions or comments? Visit the [course discussion forum](https://www.kaggle.com/learn/python/discussion) to chat with other learners.*"
   ]
  }
 ],
 "metadata": {
  "kaggle": {
   "accelerator": "none",
   "dataSources": [],
   "isGpuEnabled": false,
   "isInternetEnabled": false,
   "language": "python",
   "sourceType": "notebook"
  },
  "kernelspec": {
   "display_name": "Python 3",
   "language": "python",
   "name": "python3"
  },
  "language_info": {
   "codemirror_mode": {
    "name": "ipython",
    "version": 3
   },
   "file_extension": ".py",
   "mimetype": "text/x-python",
   "name": "python",
   "nbconvert_exporter": "python",
   "pygments_lexer": "ipython3",
   "version": "3.10.12"
  },
  "learntools_metadata": {
   "lesson_index": 4,
   "type": "exercise"
  },
  "papermill": {
   "default_parameters": {},
   "duration": 4.306029,
   "end_time": "2025-03-05T21:01:42.256372",
   "environment_variables": {},
   "exception": null,
   "input_path": "__notebook__.ipynb",
   "output_path": "__notebook__.ipynb",
   "parameters": {},
   "start_time": "2025-03-05T21:01:37.950343",
   "version": "2.6.0"
  }
 },
 "nbformat": 4,
 "nbformat_minor": 5
}
