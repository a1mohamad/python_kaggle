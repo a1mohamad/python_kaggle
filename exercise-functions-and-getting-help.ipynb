{
 "cells": [
  {
   "cell_type": "markdown",
   "id": "f91cf1e6",
   "metadata": {
    "papermill": {
     "duration": 0.003369,
     "end_time": "2025-03-02T19:43:04.176350",
     "exception": false,
     "start_time": "2025-03-02T19:43:04.172981",
     "status": "completed"
    },
    "tags": []
   },
   "source": [
    "**This notebook is an exercise in the [Python](https://www.kaggle.com/learn/python) course.  You can reference the tutorial at [this link](https://www.kaggle.com/colinmorris/functions-and-getting-help).**\n",
    "\n",
    "---\n"
   ]
  },
  {
   "cell_type": "markdown",
   "id": "19c9d0f9",
   "metadata": {
    "papermill": {
     "duration": 0.002391,
     "end_time": "2025-03-02T19:43:04.181575",
     "exception": false,
     "start_time": "2025-03-02T19:43:04.179184",
     "status": "completed"
    },
    "tags": []
   },
   "source": [
    "Functions are powerful. Try writing some yourself.\n",
    "\n",
    "As before, don't forget to run the setup code below before jumping into question 1."
   ]
  },
  {
   "cell_type": "code",
   "execution_count": 1,
   "id": "da7dec00",
   "metadata": {
    "_kg_hide-input": true,
    "_kg_hide-output": true,
    "execution": {
     "iopub.execute_input": "2025-03-02T19:43:04.187907Z",
     "iopub.status.busy": "2025-03-02T19:43:04.187638Z",
     "iopub.status.idle": "2025-03-02T19:43:04.935542Z",
     "shell.execute_reply": "2025-03-02T19:43:04.934645Z"
    },
    "papermill": {
     "duration": 0.752716,
     "end_time": "2025-03-02T19:43:04.936901",
     "exception": false,
     "start_time": "2025-03-02T19:43:04.184185",
     "status": "completed"
    },
    "tags": []
   },
   "outputs": [
    {
     "name": "stdout",
     "output_type": "stream",
     "text": [
      "Setup complete.\n"
     ]
    }
   ],
   "source": [
    "# SETUP. You don't need to worry for now about what this code does or how it works.\n",
    "from learntools.core import binder; binder.bind(globals())\n",
    "from learntools.python.ex2 import *\n",
    "print('Setup complete.')"
   ]
  },
  {
   "cell_type": "markdown",
   "id": "54c328a1",
   "metadata": {
    "papermill": {
     "duration": 0.002713,
     "end_time": "2025-03-02T19:43:04.942720",
     "exception": false,
     "start_time": "2025-03-02T19:43:04.940007",
     "status": "completed"
    },
    "tags": []
   },
   "source": [
    "# 1.\n",
    "\n",
    "Complete the body of the following function according to its docstring.\n",
    "\n",
    "HINT: Python has a built-in function `round`."
   ]
  },
  {
   "cell_type": "code",
   "execution_count": 2,
   "id": "933f90d1",
   "metadata": {
    "execution": {
     "iopub.execute_input": "2025-03-02T19:43:04.948957Z",
     "iopub.status.busy": "2025-03-02T19:43:04.948637Z",
     "iopub.status.idle": "2025-03-02T19:43:04.955172Z",
     "shell.execute_reply": "2025-03-02T19:43:04.954599Z"
    },
    "papermill": {
     "duration": 0.010853,
     "end_time": "2025-03-02T19:43:04.956247",
     "exception": false,
     "start_time": "2025-03-02T19:43:04.945394",
     "status": "completed"
    },
    "tags": []
   },
   "outputs": [
    {
     "data": {
      "application/javascript": [
       "parent.postMessage({\"jupyterEvent\": \"custom.exercise_interaction\", \"data\": {\"outcomeType\": 1, \"valueTowardsCompletion\": 0.16666666666666666, \"interactionType\": 1, \"questionType\": 2, \"questionId\": \"1_RoundFunctionProblem\", \"learnToolsVersion\": \"0.3.4\", \"failureMessage\": \"\", \"exceptionClass\": \"\", \"trace\": \"\"}}, \"*\")"
      ],
      "text/plain": [
       "<IPython.core.display.Javascript object>"
      ]
     },
     "metadata": {},
     "output_type": "display_data"
    },
    {
     "data": {
      "text/markdown": [
       "<span style=\"color:#33cc33\">Correct</span>"
      ],
      "text/plain": [
       "Correct"
      ]
     },
     "metadata": {},
     "output_type": "display_data"
    }
   ],
   "source": [
    "def round_to_two_places(num):\n",
    "    \"\"\"Return the given number rounded to two decimal places. \n",
    "    \n",
    "    >>> round_to_two_places(3.14159)\n",
    "    3.14\n",
    "    \"\"\"\n",
    "    # Replace this body with your own code.\n",
    "    # (\"pass\" is a keyword that does literally nothing. We used it as a placeholder\n",
    "    # because after we begin a code block, Python requires at least one line of code)\n",
    "    rounded= round(num, ndigits= 2)\n",
    "    return rounded\n",
    "\n",
    "# Check your answer\n",
    "q1.check()"
   ]
  },
  {
   "cell_type": "code",
   "execution_count": 3,
   "id": "e96f134b",
   "metadata": {
    "execution": {
     "iopub.execute_input": "2025-03-02T19:43:04.962828Z",
     "iopub.status.busy": "2025-03-02T19:43:04.962640Z",
     "iopub.status.idle": "2025-03-02T19:43:04.965030Z",
     "shell.execute_reply": "2025-03-02T19:43:04.964492Z"
    },
    "papermill": {
     "duration": 0.006648,
     "end_time": "2025-03-02T19:43:04.965981",
     "exception": false,
     "start_time": "2025-03-02T19:43:04.959333",
     "status": "completed"
    },
    "tags": []
   },
   "outputs": [],
   "source": [
    "# Uncomment the following for a hint\n",
    "#q1.hint()\n",
    "# Or uncomment the following to peek at the solution\n",
    "#q1.solution()"
   ]
  },
  {
   "cell_type": "markdown",
   "id": "4ae7fd5d",
   "metadata": {
    "papermill": {
     "duration": 0.002569,
     "end_time": "2025-03-02T19:43:04.971391",
     "exception": false,
     "start_time": "2025-03-02T19:43:04.968822",
     "status": "completed"
    },
    "tags": []
   },
   "source": [
    "# 2.\n",
    "The help for `round` says that `ndigits` (the second argument) may be negative.\n",
    "What do you think will happen when it is? Try some examples in the following cell."
   ]
  },
  {
   "cell_type": "code",
   "execution_count": 4,
   "id": "e7cec628",
   "metadata": {
    "execution": {
     "iopub.execute_input": "2025-03-02T19:43:04.977518Z",
     "iopub.status.busy": "2025-03-02T19:43:04.977277Z",
     "iopub.status.idle": "2025-03-02T19:43:04.981038Z",
     "shell.execute_reply": "2025-03-02T19:43:04.980361Z"
    },
    "papermill": {
     "duration": 0.007859,
     "end_time": "2025-03-02T19:43:04.982030",
     "exception": false,
     "start_time": "2025-03-02T19:43:04.974171",
     "status": "completed"
    },
    "tags": []
   },
   "outputs": [
    {
     "name": "stdout",
     "output_type": "stream",
     "text": [
      "200.0\n"
     ]
    }
   ],
   "source": [
    "# Put your test code here\n",
    "x= round(208.1122, ndigits= -2)\n",
    "print(x)"
   ]
  },
  {
   "cell_type": "markdown",
   "id": "61f52213",
   "metadata": {
    "papermill": {
     "duration": 0.002644,
     "end_time": "2025-03-02T19:43:04.987840",
     "exception": false,
     "start_time": "2025-03-02T19:43:04.985196",
     "status": "completed"
    },
    "tags": []
   },
   "source": [
    "Can you think of a case where this would be useful?  Once you're ready, run the code cell below to see the answer and to receive credit for completing the problem."
   ]
  },
  {
   "cell_type": "code",
   "execution_count": 5,
   "id": "a8f4c884",
   "metadata": {
    "execution": {
     "iopub.execute_input": "2025-03-02T19:43:04.995619Z",
     "iopub.status.busy": "2025-03-02T19:43:04.995399Z",
     "iopub.status.idle": "2025-03-02T19:43:05.000992Z",
     "shell.execute_reply": "2025-03-02T19:43:05.000001Z"
    },
    "papermill": {
     "duration": 0.010664,
     "end_time": "2025-03-02T19:43:05.002348",
     "exception": false,
     "start_time": "2025-03-02T19:43:04.991684",
     "status": "completed"
    },
    "tags": []
   },
   "outputs": [
    {
     "data": {
      "application/javascript": [
       "parent.postMessage({\"jupyterEvent\": \"custom.exercise_interaction\", \"data\": {\"interactionType\": 3, \"questionType\": 4, \"questionId\": \"2_RoundNdigitsProblem\", \"learnToolsVersion\": \"0.3.4\", \"valueTowardsCompletion\": 0.0, \"failureMessage\": \"\", \"exceptionClass\": \"\", \"trace\": \"\", \"outcomeType\": 4}}, \"*\")"
      ],
      "text/plain": [
       "<IPython.core.display.Javascript object>"
      ]
     },
     "metadata": {},
     "output_type": "display_data"
    },
    {
     "data": {
      "text/markdown": [
       "<span style=\"color:#33cc99\">Solution:</span> As you've seen, `ndigits=-1` rounds to the nearest 10, `ndigits=-2` rounds to the nearest 100 and so on. Where might this be useful? Suppose we're dealing with large numbers:\n",
       "\n",
       "> The area of Finland is 338,424 km²  \n",
       "> The area of Greenland is 2,166,086 km²\n",
       "\n",
       "We probably don't care whether it's really 338,424, or 338,425, or 338,177. All those digits of accuracy are just distracting. We can chop them off by calling `round()` with `ndigits=-3`:\n",
       "\n",
       "> The area of Finland is 338,000 km²  \n",
       "> The area of Greenland is 2,166,000 km²\n",
       "\n",
       "(We'll talk about how we would get the commas later when we talk about string formatting :))\n"
      ],
      "text/plain": [
       "Solution: As you've seen, `ndigits=-1` rounds to the nearest 10, `ndigits=-2` rounds to the nearest 100 and so on. Where might this be useful? Suppose we're dealing with large numbers:\n",
       "\n",
       "> The area of Finland is 338,424 km²  \n",
       "> The area of Greenland is 2,166,086 km²\n",
       "\n",
       "We probably don't care whether it's really 338,424, or 338,425, or 338,177. All those digits of accuracy are just distracting. We can chop them off by calling `round()` with `ndigits=-3`:\n",
       "\n",
       "> The area of Finland is 338,000 km²  \n",
       "> The area of Greenland is 2,166,000 km²\n",
       "\n",
       "(We'll talk about how we would get the commas later when we talk about string formatting :))"
      ]
     },
     "metadata": {},
     "output_type": "display_data"
    }
   ],
   "source": [
    "# Check your answer (Run this code cell to receive credit!)\n",
    "q2.solution()"
   ]
  },
  {
   "cell_type": "markdown",
   "id": "4008b15d",
   "metadata": {
    "papermill": {
     "duration": 0.002915,
     "end_time": "2025-03-02T19:43:05.008642",
     "exception": false,
     "start_time": "2025-03-02T19:43:05.005727",
     "status": "completed"
    },
    "tags": []
   },
   "source": [
    "# 3.\n",
    "\n",
    "In the previous exercise, the candy-sharing friends Alice, Bob and Carol tried to split candies evenly. For the sake of their friendship, any candies left over would be smashed. For example, if they collectively bring home 91 candies, they'll take 30 each and smash 1.\n",
    "\n",
    "Below is a simple function that will calculate the number of candies to smash for *any* number of total candies.\n",
    "\n",
    "Modify it so that it optionally takes a second argument representing the number of friends the candies are being split between. If no second argument is provided, it should assume 3 friends, as before.\n",
    "\n",
    "Update the docstring to reflect this new behaviour."
   ]
  },
  {
   "cell_type": "code",
   "execution_count": 6,
   "id": "b63af05c",
   "metadata": {
    "execution": {
     "iopub.execute_input": "2025-03-02T19:43:05.015229Z",
     "iopub.status.busy": "2025-03-02T19:43:05.015027Z",
     "iopub.status.idle": "2025-03-02T19:43:05.020117Z",
     "shell.execute_reply": "2025-03-02T19:43:05.019504Z"
    },
    "papermill": {
     "duration": 0.009556,
     "end_time": "2025-03-02T19:43:05.021192",
     "exception": false,
     "start_time": "2025-03-02T19:43:05.011636",
     "status": "completed"
    },
    "tags": []
   },
   "outputs": [
    {
     "data": {
      "application/javascript": [
       "parent.postMessage({\"jupyterEvent\": \"custom.exercise_interaction\", \"data\": {\"outcomeType\": 1, \"valueTowardsCompletion\": 0.16666666666666666, \"interactionType\": 1, \"questionType\": 2, \"questionId\": \"3_CandySmashingFunctionProblem\", \"learnToolsVersion\": \"0.3.4\", \"failureMessage\": \"\", \"exceptionClass\": \"\", \"trace\": \"\"}}, \"*\")"
      ],
      "text/plain": [
       "<IPython.core.display.Javascript object>"
      ]
     },
     "metadata": {},
     "output_type": "display_data"
    },
    {
     "data": {
      "text/markdown": [
       "<span style=\"color:#33cc33\">Correct</span>"
      ],
      "text/plain": [
       "Correct"
      ]
     },
     "metadata": {},
     "output_type": "display_data"
    }
   ],
   "source": [
    "def to_smash(total_candies, n_friends= 3):\n",
    "    \"\"\"Return the number of leftover candies that must be smashed after distributing\n",
    "    the given number of candies evenly between number of friends.\n",
    "    \n",
    "    >>> to_smash(91, 3)\n",
    "    1\n",
    "    \"\"\"\n",
    "    return total_candies % n_friends\n",
    "\n",
    "# Check your answer\n",
    "q3.check()"
   ]
  },
  {
   "cell_type": "code",
   "execution_count": 7,
   "id": "4a595790",
   "metadata": {
    "execution": {
     "iopub.execute_input": "2025-03-02T19:43:05.028924Z",
     "iopub.status.busy": "2025-03-02T19:43:05.028671Z",
     "iopub.status.idle": "2025-03-02T19:43:05.031582Z",
     "shell.execute_reply": "2025-03-02T19:43:05.030886Z"
    },
    "papermill": {
     "duration": 0.007855,
     "end_time": "2025-03-02T19:43:05.032706",
     "exception": false,
     "start_time": "2025-03-02T19:43:05.024851",
     "status": "completed"
    },
    "tags": []
   },
   "outputs": [],
   "source": [
    "#q3.hint()"
   ]
  },
  {
   "cell_type": "code",
   "execution_count": 8,
   "id": "8549668e",
   "metadata": {
    "execution": {
     "iopub.execute_input": "2025-03-02T19:43:05.040078Z",
     "iopub.status.busy": "2025-03-02T19:43:05.039886Z",
     "iopub.status.idle": "2025-03-02T19:43:05.042539Z",
     "shell.execute_reply": "2025-03-02T19:43:05.041753Z"
    },
    "papermill": {
     "duration": 0.007901,
     "end_time": "2025-03-02T19:43:05.044163",
     "exception": false,
     "start_time": "2025-03-02T19:43:05.036262",
     "status": "completed"
    },
    "tags": []
   },
   "outputs": [],
   "source": [
    "#q3.solution()"
   ]
  },
  {
   "cell_type": "markdown",
   "id": "25fa4ac0",
   "metadata": {
    "papermill": {
     "duration": 0.003071,
     "end_time": "2025-03-02T19:43:05.051027",
     "exception": false,
     "start_time": "2025-03-02T19:43:05.047956",
     "status": "completed"
    },
    "tags": []
   },
   "source": [
    "# 4. (Optional)\n",
    "\n",
    "It may not be fun, but reading and understanding error messages will be an important part of your Python career.\n",
    "\n",
    "Each code cell below contains some commented buggy code. For each cell...\n",
    "\n",
    "1. Read the code and predict what you think will happen when it's run.\n",
    "2. Then uncomment the code and run it to see what happens. (**Tip**: In the kernel editor, you can highlight several lines and press `ctrl`+`/` to toggle commenting.)\n",
    "3. Fix the code (so that it accomplishes its intended purpose without throwing an exception)\n",
    "\n",
    "<!-- TODO: should this be autochecked? Delta is probably pretty small. -->"
   ]
  },
  {
   "cell_type": "code",
   "execution_count": 9,
   "id": "0edc7947",
   "metadata": {
    "execution": {
     "iopub.execute_input": "2025-03-02T19:43:05.058360Z",
     "iopub.status.busy": "2025-03-02T19:43:05.058126Z",
     "iopub.status.idle": "2025-03-02T19:43:05.062516Z",
     "shell.execute_reply": "2025-03-02T19:43:05.061812Z"
    },
    "papermill": {
     "duration": 0.00943,
     "end_time": "2025-03-02T19:43:05.063685",
     "exception": false,
     "start_time": "2025-03-02T19:43:05.054255",
     "status": "completed"
    },
    "tags": []
   },
   "outputs": [
    {
     "data": {
      "text/plain": [
       "10.0"
      ]
     },
     "execution_count": 9,
     "metadata": {},
     "output_type": "execute_result"
    }
   ],
   "source": [
    "round_to_two_places(9.9999)"
   ]
  },
  {
   "cell_type": "code",
   "execution_count": 10,
   "id": "8de47dfa",
   "metadata": {
    "execution": {
     "iopub.execute_input": "2025-03-02T19:43:05.071177Z",
     "iopub.status.busy": "2025-03-02T19:43:05.070979Z",
     "iopub.status.idle": "2025-03-02T19:43:05.075153Z",
     "shell.execute_reply": "2025-03-02T19:43:05.074368Z"
    },
    "papermill": {
     "duration": 0.008733,
     "end_time": "2025-03-02T19:43:05.076127",
     "exception": false,
     "start_time": "2025-03-02T19:43:05.067394",
     "status": "completed"
    },
    "tags": []
   },
   "outputs": [
    {
     "name": "stdout",
     "output_type": "stream",
     "text": [
      "Object `value` not found.\n",
      "5\n"
     ]
    }
   ],
   "source": [
    "x = -10\n",
    "y = 5\n",
    "Which of the two variables above has the smallest absolute value?\n",
    "smallest_abs = min(abs(x), abs(y))\n",
    "print(smallest_abs)"
   ]
  },
  {
   "cell_type": "code",
   "execution_count": 11,
   "id": "ce81387f",
   "metadata": {
    "execution": {
     "iopub.execute_input": "2025-03-02T19:43:05.083585Z",
     "iopub.status.busy": "2025-03-02T19:43:05.083299Z",
     "iopub.status.idle": "2025-03-02T19:43:05.086843Z",
     "shell.execute_reply": "2025-03-02T19:43:05.086125Z"
    },
    "papermill": {
     "duration": 0.008373,
     "end_time": "2025-03-02T19:43:05.087944",
     "exception": false,
     "start_time": "2025-03-02T19:43:05.079571",
     "status": "completed"
    },
    "tags": []
   },
   "outputs": [
    {
     "name": "stdout",
     "output_type": "stream",
     "text": [
      "5\n"
     ]
    }
   ],
   "source": [
    "def f(x):\n",
    "    y = abs(x)\n",
    "    return y\n",
    "\n",
    "print(f(5))"
   ]
  },
  {
   "cell_type": "markdown",
   "id": "be61ab19",
   "metadata": {
    "papermill": {
     "duration": 0.003551,
     "end_time": "2025-03-02T19:43:05.095887",
     "exception": false,
     "start_time": "2025-03-02T19:43:05.092336",
     "status": "completed"
    },
    "tags": []
   },
   "source": [
    "# Keep Going\n",
    "\n",
    "Nice job with the code. Next up, you'll learn about *conditionals*, which you'll need to **[write interesting programs](https://www.kaggle.com/colinmorris/booleans-and-conditionals)**. "
   ]
  },
  {
   "cell_type": "markdown",
   "id": "cd90273d",
   "metadata": {
    "papermill": {
     "duration": 0.003495,
     "end_time": "2025-03-02T19:43:05.103587",
     "exception": false,
     "start_time": "2025-03-02T19:43:05.100092",
     "status": "completed"
    },
    "tags": []
   },
   "source": [
    "---\n",
    "\n",
    "\n",
    "\n",
    "\n",
    "*Have questions or comments? Visit the [course discussion forum](https://www.kaggle.com/learn/python/discussion) to chat with other learners.*"
   ]
  }
 ],
 "metadata": {
  "kaggle": {
   "accelerator": "none",
   "dataSources": [],
   "isGpuEnabled": false,
   "isInternetEnabled": false,
   "language": "python",
   "sourceType": "notebook"
  },
  "kernelspec": {
   "display_name": "Python 3",
   "language": "python",
   "name": "python3"
  },
  "language_info": {
   "codemirror_mode": {
    "name": "ipython",
    "version": 3
   },
   "file_extension": ".py",
   "mimetype": "text/x-python",
   "name": "python",
   "nbconvert_exporter": "python",
   "pygments_lexer": "ipython3",
   "version": "3.10.12"
  },
  "learntools_metadata": {
   "lesson_index": 1,
   "type": "exercise"
  },
  "papermill": {
   "default_parameters": {},
   "duration": 3.369206,
   "end_time": "2025-03-02T19:43:05.524751",
   "environment_variables": {},
   "exception": null,
   "input_path": "__notebook__.ipynb",
   "output_path": "__notebook__.ipynb",
   "parameters": {},
   "start_time": "2025-03-02T19:43:02.155545",
   "version": "2.6.0"
  }
 },
 "nbformat": 4,
 "nbformat_minor": 5
}
