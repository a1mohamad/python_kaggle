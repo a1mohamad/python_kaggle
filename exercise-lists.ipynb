{
 "cells": [
  {
   "cell_type": "markdown",
   "id": "b33139f0",
   "metadata": {
    "papermill": {
     "duration": 0.005235,
     "end_time": "2025-03-04T16:30:22.329658",
     "exception": false,
     "start_time": "2025-03-04T16:30:22.324423",
     "status": "completed"
    },
    "tags": []
   },
   "source": [
    "**This notebook is an exercise in the [Python](https://www.kaggle.com/learn/python) course.  You can reference the tutorial at [this link](https://www.kaggle.com/colinmorris/lists).**\n",
    "\n",
    "---\n"
   ]
  },
  {
   "cell_type": "markdown",
   "id": "d318f4ff",
   "metadata": {
    "papermill": {
     "duration": 0.00386,
     "end_time": "2025-03-04T16:30:22.337886",
     "exception": false,
     "start_time": "2025-03-04T16:30:22.334026",
     "status": "completed"
    },
    "tags": []
   },
   "source": [
    "Things get more interesting with lists. You'll apply your new knowledge to solve the questions below. Remember to run the following cell first."
   ]
  },
  {
   "cell_type": "code",
   "execution_count": 1,
   "id": "9553d7f8",
   "metadata": {
    "execution": {
     "iopub.execute_input": "2025-03-04T16:30:22.347145Z",
     "iopub.status.busy": "2025-03-04T16:30:22.346888Z",
     "iopub.status.idle": "2025-03-04T16:30:23.162365Z",
     "shell.execute_reply": "2025-03-04T16:30:23.161253Z"
    },
    "papermill": {
     "duration": 0.821581,
     "end_time": "2025-03-04T16:30:23.163630",
     "exception": false,
     "start_time": "2025-03-04T16:30:22.342049",
     "status": "completed"
    },
    "tags": []
   },
   "outputs": [
    {
     "name": "stdout",
     "output_type": "stream",
     "text": [
      "Setup complete.\n"
     ]
    }
   ],
   "source": [
    "from learntools.core import binder; binder.bind(globals())\n",
    "from learntools.python.ex4 import *\n",
    "print('Setup complete.')"
   ]
  },
  {
   "cell_type": "markdown",
   "id": "e3acd457",
   "metadata": {
    "papermill": {
     "duration": 0.002601,
     "end_time": "2025-03-04T16:30:23.169239",
     "exception": false,
     "start_time": "2025-03-04T16:30:23.166638",
     "status": "completed"
    },
    "tags": []
   },
   "source": [
    "# 1.\n",
    "\n",
    "Complete the function below according to its docstring."
   ]
  },
  {
   "cell_type": "code",
   "execution_count": 2,
   "id": "6112ff28",
   "metadata": {
    "execution": {
     "iopub.execute_input": "2025-03-04T16:30:23.175657Z",
     "iopub.status.busy": "2025-03-04T16:30:23.175242Z",
     "iopub.status.idle": "2025-03-04T16:30:23.182619Z",
     "shell.execute_reply": "2025-03-04T16:30:23.181643Z"
    },
    "papermill": {
     "duration": 0.011954,
     "end_time": "2025-03-04T16:30:23.183810",
     "exception": false,
     "start_time": "2025-03-04T16:30:23.171856",
     "status": "completed"
    },
    "tags": []
   },
   "outputs": [
    {
     "data": {
      "application/javascript": [
       "parent.postMessage({\"jupyterEvent\": \"custom.exercise_interaction\", \"data\": {\"outcomeType\": 1, \"valueTowardsCompletion\": 0.2, \"interactionType\": 1, \"questionType\": 2, \"questionId\": \"1_SelectSecondItem\", \"learnToolsVersion\": \"0.3.4\", \"failureMessage\": \"\", \"exceptionClass\": \"\", \"trace\": \"\"}}, \"*\")"
      ],
      "text/plain": [
       "<IPython.core.display.Javascript object>"
      ]
     },
     "metadata": {},
     "output_type": "display_data"
    },
    {
     "data": {
      "text/markdown": [
       "<span style=\"color:#33cc33\">Correct</span>"
      ],
      "text/plain": [
       "Correct"
      ]
     },
     "metadata": {},
     "output_type": "display_data"
    }
   ],
   "source": [
    "def select_second(L):\n",
    "    \"\"\"Return the second element of the given list. If the list has no second\n",
    "    element, return None.\n",
    "    \"\"\"\n",
    "    return L[1] if len(L)> 2 else None\n",
    "\n",
    "# Check your answer\n",
    "q1.check()"
   ]
  },
  {
   "cell_type": "code",
   "execution_count": 3,
   "id": "6851f81d",
   "metadata": {
    "collapsed": true,
    "execution": {
     "iopub.execute_input": "2025-03-04T16:30:23.191142Z",
     "iopub.status.busy": "2025-03-04T16:30:23.190855Z",
     "iopub.status.idle": "2025-03-04T16:30:23.193695Z",
     "shell.execute_reply": "2025-03-04T16:30:23.193080Z"
    },
    "jupyter": {
     "outputs_hidden": true
    },
    "papermill": {
     "duration": 0.007676,
     "end_time": "2025-03-04T16:30:23.194826",
     "exception": false,
     "start_time": "2025-03-04T16:30:23.187150",
     "status": "completed"
    },
    "tags": []
   },
   "outputs": [],
   "source": [
    "#q1.hint()\n",
    "#q1.solution()"
   ]
  },
  {
   "cell_type": "markdown",
   "id": "dd1e7e31",
   "metadata": {
    "papermill": {
     "duration": 0.00287,
     "end_time": "2025-03-04T16:30:23.201017",
     "exception": false,
     "start_time": "2025-03-04T16:30:23.198147",
     "status": "completed"
    },
    "tags": []
   },
   "source": [
    "# 2.\n",
    "\n",
    "You are analyzing sports teams.  Members of each team are stored in a list. The Coach is the first name in the list, the captain is the second name in the list, and other players are listed after that. \n",
    "These lists are stored in another list, which starts with the best team and proceeds through the list to the worst team last.  Complete the function below to select the **captain** of the worst team."
   ]
  },
  {
   "cell_type": "code",
   "execution_count": 4,
   "id": "dfc7069c",
   "metadata": {
    "execution": {
     "iopub.execute_input": "2025-03-04T16:30:23.207898Z",
     "iopub.status.busy": "2025-03-04T16:30:23.207614Z",
     "iopub.status.idle": "2025-03-04T16:30:23.213058Z",
     "shell.execute_reply": "2025-03-04T16:30:23.212400Z"
    },
    "papermill": {
     "duration": 0.010236,
     "end_time": "2025-03-04T16:30:23.214211",
     "exception": false,
     "start_time": "2025-03-04T16:30:23.203975",
     "status": "completed"
    },
    "tags": []
   },
   "outputs": [
    {
     "data": {
      "application/javascript": [
       "parent.postMessage({\"jupyterEvent\": \"custom.exercise_interaction\", \"data\": {\"outcomeType\": 1, \"valueTowardsCompletion\": 0.2, \"interactionType\": 1, \"questionType\": 2, \"questionId\": \"2_LosingTeamCaptain\", \"learnToolsVersion\": \"0.3.4\", \"failureMessage\": \"\", \"exceptionClass\": \"\", \"trace\": \"\"}}, \"*\")"
      ],
      "text/plain": [
       "<IPython.core.display.Javascript object>"
      ]
     },
     "metadata": {},
     "output_type": "display_data"
    },
    {
     "data": {
      "text/markdown": [
       "<span style=\"color:#33cc33\">Correct</span>"
      ],
      "text/plain": [
       "Correct"
      ]
     },
     "metadata": {},
     "output_type": "display_data"
    }
   ],
   "source": [
    "def losing_team_captain(teams):\n",
    "    \"\"\"Given a list of teams, where each team is a list of names, return the 2nd player (captain)\n",
    "    from the last listed team\n",
    "    \"\"\"\n",
    "    return teams[-1][1]\n",
    "\n",
    "# Check your answer\n",
    "q2.check()"
   ]
  },
  {
   "cell_type": "code",
   "execution_count": 5,
   "id": "bbcbe6e7",
   "metadata": {
    "collapsed": true,
    "execution": {
     "iopub.execute_input": "2025-03-04T16:30:23.221860Z",
     "iopub.status.busy": "2025-03-04T16:30:23.221520Z",
     "iopub.status.idle": "2025-03-04T16:30:23.224720Z",
     "shell.execute_reply": "2025-03-04T16:30:23.223829Z"
    },
    "jupyter": {
     "outputs_hidden": true
    },
    "papermill": {
     "duration": 0.008511,
     "end_time": "2025-03-04T16:30:23.226153",
     "exception": false,
     "start_time": "2025-03-04T16:30:23.217642",
     "status": "completed"
    },
    "tags": []
   },
   "outputs": [],
   "source": [
    "#q2.hint()\n",
    "#q2.solution()"
   ]
  },
  {
   "cell_type": "markdown",
   "id": "f8d1d7e8",
   "metadata": {
    "papermill": {
     "duration": 0.002888,
     "end_time": "2025-03-04T16:30:23.232659",
     "exception": false,
     "start_time": "2025-03-04T16:30:23.229771",
     "status": "completed"
    },
    "tags": []
   },
   "source": [
    "# 3.\n",
    "\n",
    "The next iteration of Mario Kart will feature an extra-infuriating new item, the *Purple Shell*. When used, it warps the last place racer into first place and the first place racer into last place. Complete the function below to implement the Purple Shell's effect."
   ]
  },
  {
   "cell_type": "code",
   "execution_count": 6,
   "id": "b7977bf1",
   "metadata": {
    "execution": {
     "iopub.execute_input": "2025-03-04T16:30:23.239786Z",
     "iopub.status.busy": "2025-03-04T16:30:23.239475Z",
     "iopub.status.idle": "2025-03-04T16:30:23.245510Z",
     "shell.execute_reply": "2025-03-04T16:30:23.244662Z"
    },
    "papermill": {
     "duration": 0.011243,
     "end_time": "2025-03-04T16:30:23.246964",
     "exception": false,
     "start_time": "2025-03-04T16:30:23.235721",
     "status": "completed"
    },
    "tags": []
   },
   "outputs": [
    {
     "data": {
      "application/javascript": [
       "parent.postMessage({\"jupyterEvent\": \"custom.exercise_interaction\", \"data\": {\"outcomeType\": 1, \"valueTowardsCompletion\": 0.2, \"interactionType\": 1, \"questionType\": 2, \"questionId\": \"3_PurpleShell\", \"learnToolsVersion\": \"0.3.4\", \"failureMessage\": \"\", \"exceptionClass\": \"\", \"trace\": \"\"}}, \"*\")"
      ],
      "text/plain": [
       "<IPython.core.display.Javascript object>"
      ]
     },
     "metadata": {},
     "output_type": "display_data"
    },
    {
     "data": {
      "text/markdown": [
       "<span style=\"color:#33cc33\">Correct</span>"
      ],
      "text/plain": [
       "Correct"
      ]
     },
     "metadata": {},
     "output_type": "display_data"
    }
   ],
   "source": [
    "def purple_shell(racers):\n",
    "    \"\"\"Given a list of racers, set the first place racer (at the front of the list) to last\n",
    "    place and vice versa.\n",
    "    \n",
    "    >>> r = [\"Mario\", \"Bowser\", \"Luigi\"]\n",
    "    >>> purple_shell(r)\n",
    "    >>> r\n",
    "    [\"Luigi\", \"Bowser\", \"Mario\"]\n",
    "    \"\"\"\n",
    "    racers[0], racers[-1]= racers[-1], racers[0]\n",
    "\n",
    "# Check your answer\n",
    "q3.check()"
   ]
  },
  {
   "cell_type": "code",
   "execution_count": 7,
   "id": "6739e91c",
   "metadata": {
    "collapsed": true,
    "execution": {
     "iopub.execute_input": "2025-03-04T16:30:23.254746Z",
     "iopub.status.busy": "2025-03-04T16:30:23.254507Z",
     "iopub.status.idle": "2025-03-04T16:30:23.257997Z",
     "shell.execute_reply": "2025-03-04T16:30:23.256801Z"
    },
    "jupyter": {
     "outputs_hidden": true
    },
    "papermill": {
     "duration": 0.008926,
     "end_time": "2025-03-04T16:30:23.259629",
     "exception": false,
     "start_time": "2025-03-04T16:30:23.250703",
     "status": "completed"
    },
    "tags": []
   },
   "outputs": [],
   "source": [
    "#q3.hint()\n",
    "#q3.solution()"
   ]
  },
  {
   "cell_type": "markdown",
   "id": "d6b6f539",
   "metadata": {
    "papermill": {
     "duration": 0.002962,
     "end_time": "2025-03-04T16:30:23.266012",
     "exception": false,
     "start_time": "2025-03-04T16:30:23.263050",
     "status": "completed"
    },
    "tags": []
   },
   "source": [
    "# 4.\n",
    "\n",
    "What are the lengths of the following lists? Fill in the variable `lengths` with your predictions. (Try to make a prediction for each list *without* just calling `len()` on it.)"
   ]
  },
  {
   "cell_type": "code",
   "execution_count": 8,
   "id": "ed35a14d",
   "metadata": {
    "execution": {
     "iopub.execute_input": "2025-03-04T16:30:23.274166Z",
     "iopub.status.busy": "2025-03-04T16:30:23.273901Z",
     "iopub.status.idle": "2025-03-04T16:30:23.280263Z",
     "shell.execute_reply": "2025-03-04T16:30:23.279501Z"
    },
    "papermill": {
     "duration": 0.012356,
     "end_time": "2025-03-04T16:30:23.281501",
     "exception": false,
     "start_time": "2025-03-04T16:30:23.269145",
     "status": "completed"
    },
    "tags": []
   },
   "outputs": [
    {
     "data": {
      "application/javascript": [
       "parent.postMessage({\"jupyterEvent\": \"custom.exercise_interaction\", \"data\": {\"outcomeType\": 1, \"valueTowardsCompletion\": 0.2, \"interactionType\": 1, \"questionType\": 1, \"questionId\": \"4_UnderstandLen\", \"learnToolsVersion\": \"0.3.4\", \"failureMessage\": \"\", \"exceptionClass\": \"\", \"trace\": \"\"}}, \"*\")"
      ],
      "text/plain": [
       "<IPython.core.display.Javascript object>"
      ]
     },
     "metadata": {},
     "output_type": "display_data"
    },
    {
     "data": {
      "text/markdown": [
       "<span style=\"color:#33cc33\">Correct:</span> \n",
       "\n",
       "\n",
       "- a: There are three items in this list. Nothing tricky yet.\n",
       "- b: The list `[2, 3]` counts as a single item. It has one item before it. So we have 2 items in the list\n",
       "- c: The empty list has 0 items\n",
       "- d: The expression is the same as the list `[2, 3]`, which has length 2."
      ],
      "text/plain": [
       "Correct: \n",
       "\n",
       "\n",
       "- a: There are three items in this list. Nothing tricky yet.\n",
       "- b: The list `[2, 3]` counts as a single item. It has one item before it. So we have 2 items in the list\n",
       "- c: The empty list has 0 items\n",
       "- d: The expression is the same as the list `[2, 3]`, which has length 2."
      ]
     },
     "metadata": {},
     "output_type": "display_data"
    }
   ],
   "source": [
    "a = [1, 2, 3]\n",
    "b = [1, [2, 3]]\n",
    "c = []\n",
    "d = [1, 2, 3][1:]\n",
    "\n",
    "# Put your predictions in the list below. Lengths should contain 4 numbers, the\n",
    "# first being the length of a, the second being the length of b and so on.\n",
    "lengths = [3, 2, 0, 2]\n",
    "\n",
    "# Check your answer\n",
    "q4.check()"
   ]
  },
  {
   "cell_type": "code",
   "execution_count": 9,
   "id": "a292b800",
   "metadata": {
    "execution": {
     "iopub.execute_input": "2025-03-04T16:30:23.289385Z",
     "iopub.status.busy": "2025-03-04T16:30:23.289120Z",
     "iopub.status.idle": "2025-03-04T16:30:23.291954Z",
     "shell.execute_reply": "2025-03-04T16:30:23.291293Z"
    },
    "papermill": {
     "duration": 0.007948,
     "end_time": "2025-03-04T16:30:23.293084",
     "exception": false,
     "start_time": "2025-03-04T16:30:23.285136",
     "status": "completed"
    },
    "tags": []
   },
   "outputs": [],
   "source": [
    "# line below provides some explanation\n",
    "# q4.solution()"
   ]
  },
  {
   "cell_type": "markdown",
   "id": "e6241c40",
   "metadata": {
    "papermill": {
     "duration": 0.003199,
     "end_time": "2025-03-04T16:30:23.300191",
     "exception": false,
     "start_time": "2025-03-04T16:30:23.296992",
     "status": "completed"
    },
    "tags": []
   },
   "source": [
    "# 5. <span title=\"A bit spicy\" style=\"color: darkgreen \">🌶️</span>\n",
    "\n",
    "We're using lists to record people who attended our party and what order they arrived in. For example, the following list represents a party with 7 guests, in which Adela showed up first and Ford was the last to arrive:\n",
    "\n",
    "    party_attendees = ['Adela', 'Fleda', 'Owen', 'May', 'Mona', 'Gilbert', 'Ford']\n",
    "\n",
    "A guest is considered 'fashionably late' if they arrived after at least half of the party's guests. However, they must not be the very last guest (that's taking it too far). In the above example, Mona and Gilbert are the only guests who were fashionably late.\n",
    "\n",
    "Complete the function below which takes a list of party attendees as well as a person, and tells us whether that person is fashionably late."
   ]
  },
  {
   "cell_type": "code",
   "execution_count": 10,
   "id": "a1cc8c14",
   "metadata": {
    "execution": {
     "iopub.execute_input": "2025-03-04T16:30:23.307985Z",
     "iopub.status.busy": "2025-03-04T16:30:23.307706Z",
     "iopub.status.idle": "2025-03-04T16:30:23.314458Z",
     "shell.execute_reply": "2025-03-04T16:30:23.313654Z"
    },
    "papermill": {
     "duration": 0.012227,
     "end_time": "2025-03-04T16:30:23.315771",
     "exception": false,
     "start_time": "2025-03-04T16:30:23.303544",
     "status": "completed"
    },
    "tags": []
   },
   "outputs": [
    {
     "data": {
      "application/javascript": [
       "parent.postMessage({\"jupyterEvent\": \"custom.exercise_interaction\", \"data\": {\"outcomeType\": 1, \"valueTowardsCompletion\": 0.2, \"interactionType\": 1, \"questionType\": 2, \"questionId\": \"5_FashionablyLate\", \"learnToolsVersion\": \"0.3.4\", \"failureMessage\": \"\", \"exceptionClass\": \"\", \"trace\": \"\"}}, \"*\")"
      ],
      "text/plain": [
       "<IPython.core.display.Javascript object>"
      ]
     },
     "metadata": {},
     "output_type": "display_data"
    },
    {
     "data": {
      "text/markdown": [
       "<span style=\"color:#33cc33\">Correct</span>"
      ],
      "text/plain": [
       "Correct"
      ]
     },
     "metadata": {},
     "output_type": "display_data"
    }
   ],
   "source": [
    "def fashionably_late(arrivals, name):\n",
    "    \"\"\"Given an ordered list of arrivals to the party and a name, return whether the guest with that\n",
    "    name was fashionably late.\n",
    "    \"\"\"\n",
    "    half= len(arrivals)/ 2\n",
    "    if len(arrivals)% 2== 0:\n",
    "        return name in arrivals[int(half): -1]\n",
    "    else:\n",
    "        return name in arrivals[int(half)+ 1: -1]\n",
    "\n",
    "# Check your answer\n",
    "q5.check()"
   ]
  },
  {
   "cell_type": "code",
   "execution_count": 11,
   "id": "5fba707d",
   "metadata": {
    "execution": {
     "iopub.execute_input": "2025-03-04T16:30:23.324342Z",
     "iopub.status.busy": "2025-03-04T16:30:23.323973Z",
     "iopub.status.idle": "2025-03-04T16:30:23.327365Z",
     "shell.execute_reply": "2025-03-04T16:30:23.326596Z"
    },
    "papermill": {
     "duration": 0.009621,
     "end_time": "2025-03-04T16:30:23.329205",
     "exception": false,
     "start_time": "2025-03-04T16:30:23.319584",
     "status": "completed"
    },
    "tags": []
   },
   "outputs": [],
   "source": [
    "#q5.hint()\n",
    "# q5.solution()"
   ]
  },
  {
   "cell_type": "markdown",
   "id": "fd9248cf",
   "metadata": {
    "papermill": {
     "duration": 0.004615,
     "end_time": "2025-03-04T16:30:23.339585",
     "exception": false,
     "start_time": "2025-03-04T16:30:23.334970",
     "status": "completed"
    },
    "tags": []
   },
   "source": [
    "# Keep Going\n",
    "\n",
    "That's it for lists and tuples! Now you have the baseline knowledge to **[learn about loops](https://www.kaggle.com/colinmorris/loops-and-list-comprehensions)**, which is where lists and tuples get really interesting. "
   ]
  },
  {
   "cell_type": "markdown",
   "id": "c5b4410a",
   "metadata": {
    "papermill": {
     "duration": 0.004318,
     "end_time": "2025-03-04T16:30:23.348891",
     "exception": false,
     "start_time": "2025-03-04T16:30:23.344573",
     "status": "completed"
    },
    "tags": []
   },
   "source": [
    "---\n",
    "\n",
    "\n",
    "\n",
    "\n",
    "*Have questions or comments? Visit the [course discussion forum](https://www.kaggle.com/learn/python/discussion) to chat with other learners.*"
   ]
  }
 ],
 "metadata": {
  "kaggle": {
   "accelerator": "none",
   "dataSources": [],
   "isGpuEnabled": false,
   "isInternetEnabled": false,
   "language": "python",
   "sourceType": "notebook"
  },
  "kernelspec": {
   "display_name": "Python 3",
   "language": "python",
   "name": "python3"
  },
  "language_info": {
   "codemirror_mode": {
    "name": "ipython",
    "version": 3
   },
   "file_extension": ".py",
   "mimetype": "text/x-python",
   "name": "python",
   "nbconvert_exporter": "python",
   "pygments_lexer": "ipython3",
   "version": "3.10.12"
  },
  "learntools_metadata": {
   "lesson_index": 3,
   "type": "exercise"
  },
  "papermill": {
   "default_parameters": {},
   "duration": 3.485423,
   "end_time": "2025-03-04T16:30:23.772569",
   "environment_variables": {},
   "exception": null,
   "input_path": "__notebook__.ipynb",
   "output_path": "__notebook__.ipynb",
   "parameters": {},
   "start_time": "2025-03-04T16:30:20.287146",
   "version": "2.6.0"
  }
 },
 "nbformat": 4,
 "nbformat_minor": 5
}
