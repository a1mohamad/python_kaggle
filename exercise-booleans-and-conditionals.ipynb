{
 "cells": [
  {
   "cell_type": "markdown",
   "id": "850f148c",
   "metadata": {
    "papermill": {
     "duration": 0.00819,
     "end_time": "2025-03-04T15:16:23.926831",
     "exception": false,
     "start_time": "2025-03-04T15:16:23.918641",
     "status": "completed"
    },
    "tags": []
   },
   "source": [
    "**This notebook is an exercise in the [Python](https://www.kaggle.com/learn/python) course.  You can reference the tutorial at [this link](https://www.kaggle.com/colinmorris/booleans-and-conditionals).**\n",
    "\n",
    "---\n"
   ]
  },
  {
   "cell_type": "markdown",
   "id": "5fc98488",
   "metadata": {
    "papermill": {
     "duration": 0.007257,
     "end_time": "2025-03-04T15:16:23.942237",
     "exception": false,
     "start_time": "2025-03-04T15:16:23.934980",
     "status": "completed"
    },
    "tags": []
   },
   "source": [
    "In this exercise, you'll put to work what you have learned about booleans and conditionals.\n",
    "\n",
    "To get started, **run the setup code below** before writing your own code (and if you leave this notebook and come back later, don't forget to run the setup code again)."
   ]
  },
  {
   "cell_type": "code",
   "execution_count": 1,
   "id": "c04283d2",
   "metadata": {
    "execution": {
     "iopub.execute_input": "2025-03-04T15:16:23.959162Z",
     "iopub.status.busy": "2025-03-04T15:16:23.958767Z",
     "iopub.status.idle": "2025-03-04T15:16:25.029155Z",
     "shell.execute_reply": "2025-03-04T15:16:25.027759Z"
    },
    "papermill": {
     "duration": 1.081367,
     "end_time": "2025-03-04T15:16:25.031156",
     "exception": false,
     "start_time": "2025-03-04T15:16:23.949789",
     "status": "completed"
    },
    "tags": []
   },
   "outputs": [
    {
     "name": "stdout",
     "output_type": "stream",
     "text": [
      "Setup complete.\n"
     ]
    }
   ],
   "source": [
    "from learntools.core import binder; binder.bind(globals())\n",
    "from learntools.python.ex3 import *\n",
    "print('Setup complete.')"
   ]
  },
  {
   "cell_type": "markdown",
   "id": "5ee47b26",
   "metadata": {
    "papermill": {
     "duration": 0.007536,
     "end_time": "2025-03-04T15:16:25.046846",
     "exception": false,
     "start_time": "2025-03-04T15:16:25.039310",
     "status": "completed"
    },
    "tags": []
   },
   "source": [
    "# 1.\n",
    "\n",
    "Many programming languages have [`sign`](https://en.wikipedia.org/wiki/Sign_function) available as a built-in function. Python doesn't, but we can define our own!\n",
    "\n",
    "In the cell below, define a function called `sign` which takes a numerical argument and returns -1 if it's negative, 1 if it's positive, and 0 if it's 0."
   ]
  },
  {
   "cell_type": "code",
   "execution_count": 2,
   "id": "b0e9a6d8",
   "metadata": {
    "execution": {
     "iopub.execute_input": "2025-03-04T15:16:25.063954Z",
     "iopub.status.busy": "2025-03-04T15:16:25.063418Z",
     "iopub.status.idle": "2025-03-04T15:16:25.073129Z",
     "shell.execute_reply": "2025-03-04T15:16:25.072017Z"
    },
    "papermill": {
     "duration": 0.020282,
     "end_time": "2025-03-04T15:16:25.074914",
     "exception": false,
     "start_time": "2025-03-04T15:16:25.054632",
     "status": "completed"
    },
    "tags": []
   },
   "outputs": [
    {
     "data": {
      "application/javascript": [
       "parent.postMessage({\"jupyterEvent\": \"custom.exercise_interaction\", \"data\": {\"outcomeType\": 1, \"valueTowardsCompletion\": 0.2, \"interactionType\": 1, \"questionType\": 2, \"questionId\": \"1_SignFunctionProblem\", \"learnToolsVersion\": \"0.3.4\", \"failureMessage\": \"\", \"exceptionClass\": \"\", \"trace\": \"\"}}, \"*\")"
      ],
      "text/plain": [
       "<IPython.core.display.Javascript object>"
      ]
     },
     "metadata": {},
     "output_type": "display_data"
    },
    {
     "data": {
      "text/markdown": [
       "<span style=\"color:#33cc33\">Correct</span>"
      ],
      "text/plain": [
       "Correct"
      ]
     },
     "metadata": {},
     "output_type": "display_data"
    }
   ],
   "source": [
    "# Your code goes here. Define a function called 'sign'\n",
    "def sign(num):\n",
    "    sign= 1\n",
    "    if num == 0:\n",
    "        sign= 0\n",
    "    elif num< 0:\n",
    "        sign= -1\n",
    "    return sign\n",
    "        \n",
    "# Check your answer\n",
    "q1.check()"
   ]
  },
  {
   "cell_type": "code",
   "execution_count": 3,
   "id": "93c28089",
   "metadata": {
    "execution": {
     "iopub.execute_input": "2025-03-04T15:16:25.092358Z",
     "iopub.status.busy": "2025-03-04T15:16:25.091957Z",
     "iopub.status.idle": "2025-03-04T15:16:25.096626Z",
     "shell.execute_reply": "2025-03-04T15:16:25.095498Z"
    },
    "papermill": {
     "duration": 0.015624,
     "end_time": "2025-03-04T15:16:25.098477",
     "exception": false,
     "start_time": "2025-03-04T15:16:25.082853",
     "status": "completed"
    },
    "tags": []
   },
   "outputs": [],
   "source": [
    "#q1.solution()"
   ]
  },
  {
   "cell_type": "markdown",
   "id": "8fd17d6a",
   "metadata": {
    "papermill": {
     "duration": 0.007458,
     "end_time": "2025-03-04T15:16:25.113899",
     "exception": false,
     "start_time": "2025-03-04T15:16:25.106441",
     "status": "completed"
    },
    "tags": []
   },
   "source": [
    "# 2.\n",
    "\n",
    "We've decided to add \"logging\" to our `to_smash` function from the previous exercise."
   ]
  },
  {
   "cell_type": "code",
   "execution_count": 4,
   "id": "1306ab07",
   "metadata": {
    "execution": {
     "iopub.execute_input": "2025-03-04T15:16:25.131345Z",
     "iopub.status.busy": "2025-03-04T15:16:25.130975Z",
     "iopub.status.idle": "2025-03-04T15:16:25.139686Z",
     "shell.execute_reply": "2025-03-04T15:16:25.138509Z"
    },
    "papermill": {
     "duration": 0.019322,
     "end_time": "2025-03-04T15:16:25.141508",
     "exception": false,
     "start_time": "2025-03-04T15:16:25.122186",
     "status": "completed"
    },
    "tags": []
   },
   "outputs": [
    {
     "name": "stdout",
     "output_type": "stream",
     "text": [
      "Splitting 91 candies\n"
     ]
    },
    {
     "data": {
      "text/plain": [
       "1"
      ]
     },
     "execution_count": 4,
     "metadata": {},
     "output_type": "execute_result"
    }
   ],
   "source": [
    "def to_smash(total_candies):\n",
    "    \"\"\"Return the number of leftover candies that must be smashed after distributing\n",
    "    the given number of candies evenly between 3 friends.\n",
    "    \n",
    "    >>> to_smash(91)\n",
    "    1\n",
    "    \"\"\"\n",
    "    print(\"Splitting\", total_candies, \"candies\")\n",
    "    return total_candies % 3\n",
    "\n",
    "to_smash(91)"
   ]
  },
  {
   "cell_type": "markdown",
   "id": "01766b73",
   "metadata": {
    "papermill": {
     "duration": 0.007951,
     "end_time": "2025-03-04T15:16:25.158229",
     "exception": false,
     "start_time": "2025-03-04T15:16:25.150278",
     "status": "completed"
    },
    "tags": []
   },
   "source": [
    "What happens if we call it with `total_candies = 1`?"
   ]
  },
  {
   "cell_type": "code",
   "execution_count": 5,
   "id": "7959d13e",
   "metadata": {
    "execution": {
     "iopub.execute_input": "2025-03-04T15:16:25.175487Z",
     "iopub.status.busy": "2025-03-04T15:16:25.175072Z",
     "iopub.status.idle": "2025-03-04T15:16:25.182378Z",
     "shell.execute_reply": "2025-03-04T15:16:25.181290Z"
    },
    "papermill": {
     "duration": 0.017981,
     "end_time": "2025-03-04T15:16:25.184062",
     "exception": false,
     "start_time": "2025-03-04T15:16:25.166081",
     "status": "completed"
    },
    "tags": []
   },
   "outputs": [
    {
     "name": "stdout",
     "output_type": "stream",
     "text": [
      "Splitting 1 candies\n"
     ]
    },
    {
     "data": {
      "text/plain": [
       "1"
      ]
     },
     "execution_count": 5,
     "metadata": {},
     "output_type": "execute_result"
    }
   ],
   "source": [
    "to_smash(1)"
   ]
  },
  {
   "cell_type": "markdown",
   "id": "3984c884",
   "metadata": {
    "papermill": {
     "duration": 0.007843,
     "end_time": "2025-03-04T15:16:25.200062",
     "exception": false,
     "start_time": "2025-03-04T15:16:25.192219",
     "status": "completed"
    },
    "tags": []
   },
   "source": [
    "That isn't great grammar!\n",
    "\n",
    "Modify the definition in the cell below to correct the grammar of our print statement. (If there's only one candy, we should use the singular \"candy\" instead of the plural \"candies\")"
   ]
  },
  {
   "cell_type": "code",
   "execution_count": 6,
   "id": "e7146d5c",
   "metadata": {
    "execution": {
     "iopub.execute_input": "2025-03-04T15:16:25.217427Z",
     "iopub.status.busy": "2025-03-04T15:16:25.216923Z",
     "iopub.status.idle": "2025-03-04T15:16:25.226168Z",
     "shell.execute_reply": "2025-03-04T15:16:25.224998Z"
    },
    "papermill": {
     "duration": 0.020117,
     "end_time": "2025-03-04T15:16:25.228047",
     "exception": false,
     "start_time": "2025-03-04T15:16:25.207930",
     "status": "completed"
    },
    "tags": []
   },
   "outputs": [
    {
     "name": "stdout",
     "output_type": "stream",
     "text": [
      "Splitting 91 candies\n",
      "Splitting 1 candy\n"
     ]
    },
    {
     "data": {
      "text/plain": [
       "1"
      ]
     },
     "execution_count": 6,
     "metadata": {},
     "output_type": "execute_result"
    }
   ],
   "source": [
    "def to_smash(total_candies):\n",
    "    \"\"\"Return the number of leftover candies that must be smashed after distributing\n",
    "    the given number of candies evenly between 3 friends.\n",
    "    \n",
    "    >>> to_smash(91)\n",
    "    1\n",
    "    \"\"\"\n",
    "    print(\"Splitting\", total_candies, \"candy\" if total_candies== 1 else 'candies')\n",
    "    \n",
    "    return total_candies % 3\n",
    "\n",
    "to_smash(91)\n",
    "to_smash(1)"
   ]
  },
  {
   "cell_type": "markdown",
   "id": "b7b72e64",
   "metadata": {
    "papermill": {
     "duration": 0.007898,
     "end_time": "2025-03-04T15:16:25.244485",
     "exception": false,
     "start_time": "2025-03-04T15:16:25.236587",
     "status": "completed"
    },
    "tags": []
   },
   "source": [
    "To get credit for completing this problem, and to see the official answer, run the code cell below."
   ]
  },
  {
   "cell_type": "code",
   "execution_count": 7,
   "id": "551d1fa6",
   "metadata": {
    "execution": {
     "iopub.execute_input": "2025-03-04T15:16:25.262310Z",
     "iopub.status.busy": "2025-03-04T15:16:25.261966Z",
     "iopub.status.idle": "2025-03-04T15:16:25.269536Z",
     "shell.execute_reply": "2025-03-04T15:16:25.268666Z"
    },
    "papermill": {
     "duration": 0.018186,
     "end_time": "2025-03-04T15:16:25.271161",
     "exception": false,
     "start_time": "2025-03-04T15:16:25.252975",
     "status": "completed"
    },
    "tags": []
   },
   "outputs": [
    {
     "data": {
      "application/javascript": [
       "parent.postMessage({\"jupyterEvent\": \"custom.exercise_interaction\", \"data\": {\"interactionType\": 3, \"questionType\": 4, \"questionId\": \"2_PluralizationProblem\", \"learnToolsVersion\": \"0.3.4\", \"valueTowardsCompletion\": 0.0, \"failureMessage\": \"\", \"exceptionClass\": \"\", \"trace\": \"\", \"outcomeType\": 4}}, \"*\")"
      ],
      "text/plain": [
       "<IPython.core.display.Javascript object>"
      ]
     },
     "metadata": {},
     "output_type": "display_data"
    },
    {
     "data": {
      "text/markdown": [
       "<span style=\"color:#33cc99\">Solution:</span> A straightforward (and totally fine) solution is to replace the original `print` call with:\n",
       "\n",
       "```python\n",
       "if total_candies == 1:\n",
       "    print(\"Splitting 1 candy\")\n",
       "else:\n",
       "    print(\"Splitting\", total_candies, \"candies\")\n",
       "```\n",
       "\n",
       "Here's a slightly more succinct solution using a conditional expression:\n",
       "\n",
       "```python\n",
       "print(\"Splitting\", total_candies, \"candy\" if total_candies == 1 else \"candies\")\n",
       "```"
      ],
      "text/plain": [
       "Solution: A straightforward (and totally fine) solution is to replace the original `print` call with:\n",
       "\n",
       "```python\n",
       "if total_candies == 1:\n",
       "    print(\"Splitting 1 candy\")\n",
       "else:\n",
       "    print(\"Splitting\", total_candies, \"candies\")\n",
       "```\n",
       "\n",
       "Here's a slightly more succinct solution using a conditional expression:\n",
       "\n",
       "```python\n",
       "print(\"Splitting\", total_candies, \"candy\" if total_candies == 1 else \"candies\")\n",
       "```"
      ]
     },
     "metadata": {},
     "output_type": "display_data"
    }
   ],
   "source": [
    "# Check your answer (Run this code cell to receive credit!)\n",
    "q2.solution()"
   ]
  },
  {
   "cell_type": "markdown",
   "id": "d9a279c5",
   "metadata": {
    "papermill": {
     "duration": 0.008742,
     "end_time": "2025-03-04T15:16:25.288631",
     "exception": false,
     "start_time": "2025-03-04T15:16:25.279889",
     "status": "completed"
    },
    "tags": []
   },
   "source": [
    "# 3. <span title=\"A bit spicy\" style=\"color: darkgreen \">🌶️</span>\n",
    "\n",
    "In the tutorial, we talked about deciding whether we're prepared for the weather. I said that I'm safe from today's weather if...\n",
    "- I have an umbrella...\n",
    "- or if the rain isn't too heavy and I have a hood...\n",
    "- otherwise, I'm still fine unless it's raining *and* it's a workday\n",
    "\n",
    "The function below uses our first attempt at turning this logic into a Python expression. I claimed that there was a bug in that code. Can you find it?\n",
    "\n",
    "To prove that `prepared_for_weather` is buggy, come up with a set of inputs where either:\n",
    "- the function returns `False` (but should have returned `True`), or\n",
    "- the function returned `True` (but should have returned `False`).\n",
    "\n",
    "To get credit for completing this question, your code should return a <font color='#33cc33'>Correct</font> result."
   ]
  },
  {
   "cell_type": "code",
   "execution_count": 8,
   "id": "c55a2cbd",
   "metadata": {
    "execution": {
     "iopub.execute_input": "2025-03-04T15:16:25.307728Z",
     "iopub.status.busy": "2025-03-04T15:16:25.307342Z",
     "iopub.status.idle": "2025-03-04T15:16:25.317365Z",
     "shell.execute_reply": "2025-03-04T15:16:25.316282Z"
    },
    "papermill": {
     "duration": 0.021736,
     "end_time": "2025-03-04T15:16:25.319452",
     "exception": false,
     "start_time": "2025-03-04T15:16:25.297716",
     "status": "completed"
    },
    "tags": []
   },
   "outputs": [
    {
     "name": "stdout",
     "output_type": "stream",
     "text": [
      "False\n"
     ]
    },
    {
     "data": {
      "application/javascript": [
       "parent.postMessage({\"jupyterEvent\": \"custom.exercise_interaction\", \"data\": {\"outcomeType\": 1, \"valueTowardsCompletion\": 0.2, \"interactionType\": 1, \"questionType\": 1, \"questionId\": \"3_WeatherDebug\", \"learnToolsVersion\": \"0.3.4\", \"failureMessage\": \"\", \"exceptionClass\": \"\", \"trace\": \"\"}}, \"*\")"
      ],
      "text/plain": [
       "<IPython.core.display.Javascript object>"
      ]
     },
     "metadata": {},
     "output_type": "display_data"
    },
    {
     "data": {
      "text/markdown": [
       "<span style=\"color:#33cc33\">Correct:</span> \n",
       "\n",
       "One example of a failing test case is:\n",
       "\n",
       "```python\n",
       "have_umbrella = False\n",
       "rain_level = 0.0\n",
       "have_hood = False\n",
       "is_workday = False\n",
       "```\n",
       "\n",
       "Clearly we're prepared for the weather in this case. It's not raining. Not only that, it's not a workday, so we don't even need to leave the house! But our function will return False on these inputs.\n",
       "\n",
       "The key problem is that Python implictly parenthesizes the last part as:\n",
       "\n",
       "```python\n",
       "(not (rain_level > 0)) and is_workday\n",
       "```\n",
       "\n",
       "Whereas what we were trying to express would look more like:\n",
       "\n",
       "```python\n",
       "not (rain_level > 0 and is_workday)\n",
       "```\n"
      ],
      "text/plain": [
       "Correct: \n",
       "\n",
       "One example of a failing test case is:\n",
       "\n",
       "```python\n",
       "have_umbrella = False\n",
       "rain_level = 0.0\n",
       "have_hood = False\n",
       "is_workday = False\n",
       "```\n",
       "\n",
       "Clearly we're prepared for the weather in this case. It's not raining. Not only that, it's not a workday, so we don't even need to leave the house! But our function will return False on these inputs.\n",
       "\n",
       "The key problem is that Python implictly parenthesizes the last part as:\n",
       "\n",
       "```python\n",
       "(not (rain_level > 0)) and is_workday\n",
       "```\n",
       "\n",
       "Whereas what we were trying to express would look more like:\n",
       "\n",
       "```python\n",
       "not (rain_level > 0 and is_workday)\n",
       "```"
      ]
     },
     "metadata": {},
     "output_type": "display_data"
    }
   ],
   "source": [
    "def prepared_for_weather(have_umbrella, rain_level, have_hood, is_workday):\n",
    "    # Don't change this code. Our goal is just to find the bug, not fix it!\n",
    "    return have_umbrella or rain_level < 5 and have_hood or not rain_level > 0 and is_workday\n",
    "\n",
    "# Change the values of these inputs so they represent a case where prepared_for_weather\n",
    "# returns the wrong answer.\n",
    "have_umbrella = False\n",
    "rain_level = 0.0\n",
    "have_hood = False\n",
    "is_workday = False\n",
    "\n",
    "# Check what the function returns given the current values of the variables above\n",
    "actual = prepared_for_weather(have_umbrella, rain_level, have_hood, is_workday)\n",
    "print(actual)\n",
    "\n",
    "# Check your answer\n",
    "q3.check()"
   ]
  },
  {
   "cell_type": "code",
   "execution_count": 9,
   "id": "cab3b9bd",
   "metadata": {
    "execution": {
     "iopub.execute_input": "2025-03-04T15:16:25.338321Z",
     "iopub.status.busy": "2025-03-04T15:16:25.337971Z",
     "iopub.status.idle": "2025-03-04T15:16:25.348784Z",
     "shell.execute_reply": "2025-03-04T15:16:25.347734Z"
    },
    "papermill": {
     "duration": 0.022389,
     "end_time": "2025-03-04T15:16:25.350593",
     "exception": false,
     "start_time": "2025-03-04T15:16:25.328204",
     "status": "completed"
    },
    "tags": []
   },
   "outputs": [
    {
     "data": {
      "application/javascript": [
       "parent.postMessage({\"jupyterEvent\": \"custom.exercise_interaction\", \"data\": {\"interactionType\": 2, \"questionType\": 1, \"questionId\": \"3_WeatherDebug\", \"learnToolsVersion\": \"0.3.4\", \"valueTowardsCompletion\": 0.0, \"failureMessage\": \"\", \"exceptionClass\": \"\", \"trace\": \"\", \"outcomeType\": 4}}, \"*\")"
      ],
      "text/plain": [
       "<IPython.core.display.Javascript object>"
      ]
     },
     "metadata": {},
     "output_type": "display_data"
    },
    {
     "data": {
      "text/markdown": [
       "<span style=\"color:#3366cc\">Hint:</span> Take a look at how we fixed our original expression in the main lesson. We added parentheses around certain subexpressions. The bug in this code is caused by Python evaluating certain operations in the \"wrong\" order."
      ],
      "text/plain": [
       "Hint: Take a look at how we fixed our original expression in the main lesson. We added parentheses around certain subexpressions. The bug in this code is caused by Python evaluating certain operations in the \"wrong\" order."
      ]
     },
     "metadata": {},
     "output_type": "display_data"
    },
    {
     "data": {
      "application/javascript": [
       "parent.postMessage({\"jupyterEvent\": \"custom.exercise_interaction\", \"data\": {\"interactionType\": 3, \"questionType\": 1, \"questionId\": \"3_WeatherDebug\", \"learnToolsVersion\": \"0.3.4\", \"valueTowardsCompletion\": 0.0, \"failureMessage\": \"\", \"exceptionClass\": \"\", \"trace\": \"\", \"outcomeType\": 4}}, \"*\")"
      ],
      "text/plain": [
       "<IPython.core.display.Javascript object>"
      ]
     },
     "metadata": {},
     "output_type": "display_data"
    },
    {
     "data": {
      "text/markdown": [
       "<span style=\"color:#33cc99\">Solution:</span> One example of a failing test case is:\n",
       "\n",
       "```python\n",
       "have_umbrella = False\n",
       "rain_level = 0.0\n",
       "have_hood = False\n",
       "is_workday = False\n",
       "```\n",
       "\n",
       "Clearly we're prepared for the weather in this case. It's not raining. Not only that, it's not a workday, so we don't even need to leave the house! But our function will return False on these inputs.\n",
       "\n",
       "The key problem is that Python implictly parenthesizes the last part as:\n",
       "\n",
       "```python\n",
       "(not (rain_level > 0)) and is_workday\n",
       "```\n",
       "\n",
       "Whereas what we were trying to express would look more like:\n",
       "\n",
       "```python\n",
       "not (rain_level > 0 and is_workday)\n",
       "```\n"
      ],
      "text/plain": [
       "Solution: One example of a failing test case is:\n",
       "\n",
       "```python\n",
       "have_umbrella = False\n",
       "rain_level = 0.0\n",
       "have_hood = False\n",
       "is_workday = False\n",
       "```\n",
       "\n",
       "Clearly we're prepared for the weather in this case. It's not raining. Not only that, it's not a workday, so we don't even need to leave the house! But our function will return False on these inputs.\n",
       "\n",
       "The key problem is that Python implictly parenthesizes the last part as:\n",
       "\n",
       "```python\n",
       "(not (rain_level > 0)) and is_workday\n",
       "```\n",
       "\n",
       "Whereas what we were trying to express would look more like:\n",
       "\n",
       "```python\n",
       "not (rain_level > 0 and is_workday)\n",
       "```"
      ]
     },
     "metadata": {},
     "output_type": "display_data"
    }
   ],
   "source": [
    "q3.hint()\n",
    "q3.solution()"
   ]
  },
  {
   "cell_type": "markdown",
   "id": "465b6a31",
   "metadata": {
    "papermill": {
     "duration": 0.010386,
     "end_time": "2025-03-04T15:16:25.370378",
     "exception": false,
     "start_time": "2025-03-04T15:16:25.359992",
     "status": "completed"
    },
    "tags": []
   },
   "source": [
    "# 4.\n",
    "\n",
    "The function `is_negative` below is implemented correctly - it returns True if the given number is negative and False otherwise.\n",
    "\n",
    "However, it's more verbose than it needs to be. We can actually reduce the number of lines of code in this function by *75%* while keeping the same behaviour. \n",
    "\n",
    "See if you can come up with an equivalent body that uses just **one line** of code, and put it in the function `concise_is_negative`. (HINT: you don't even need Python's ternary syntax)"
   ]
  },
  {
   "cell_type": "code",
   "execution_count": 10,
   "id": "a9acbbaa",
   "metadata": {
    "execution": {
     "iopub.execute_input": "2025-03-04T15:16:25.390663Z",
     "iopub.status.busy": "2025-03-04T15:16:25.390243Z",
     "iopub.status.idle": "2025-03-04T15:16:25.398748Z",
     "shell.execute_reply": "2025-03-04T15:16:25.397692Z"
    },
    "papermill": {
     "duration": 0.020494,
     "end_time": "2025-03-04T15:16:25.400475",
     "exception": false,
     "start_time": "2025-03-04T15:16:25.379981",
     "status": "completed"
    },
    "tags": []
   },
   "outputs": [
    {
     "data": {
      "application/javascript": [
       "parent.postMessage({\"jupyterEvent\": \"custom.exercise_interaction\", \"data\": {\"outcomeType\": 1, \"valueTowardsCompletion\": 0.2, \"interactionType\": 1, \"questionType\": 2, \"questionId\": \"4_ConciseIsNegative\", \"learnToolsVersion\": \"0.3.4\", \"failureMessage\": \"\", \"exceptionClass\": \"\", \"trace\": \"\"}}, \"*\")"
      ],
      "text/plain": [
       "<IPython.core.display.Javascript object>"
      ]
     },
     "metadata": {},
     "output_type": "display_data"
    },
    {
     "data": {
      "text/markdown": [
       "<span style=\"color:#33cc33\">Correct</span>"
      ],
      "text/plain": [
       "Correct"
      ]
     },
     "metadata": {},
     "output_type": "display_data"
    }
   ],
   "source": [
    "def is_negative(number):\n",
    "    if number < 0:\n",
    "        return True\n",
    "    else:\n",
    "        return False\n",
    "\n",
    "def concise_is_negative(number):\n",
    "     # Your code goes here (try to keep it to one line!)\n",
    "    return number< 0\n",
    "# Check your answer\n",
    "q4.check()"
   ]
  },
  {
   "cell_type": "code",
   "execution_count": 11,
   "id": "23824980",
   "metadata": {
    "execution": {
     "iopub.execute_input": "2025-03-04T15:16:25.421820Z",
     "iopub.status.busy": "2025-03-04T15:16:25.421300Z",
     "iopub.status.idle": "2025-03-04T15:16:25.426008Z",
     "shell.execute_reply": "2025-03-04T15:16:25.424535Z"
    },
    "papermill": {
     "duration": 0.018193,
     "end_time": "2025-03-04T15:16:25.428839",
     "exception": false,
     "start_time": "2025-03-04T15:16:25.410646",
     "status": "completed"
    },
    "tags": []
   },
   "outputs": [],
   "source": [
    "#q4.hint()\n",
    "#q4.solution()"
   ]
  },
  {
   "cell_type": "markdown",
   "id": "bcc27c3f",
   "metadata": {
    "papermill": {
     "duration": 0.009945,
     "end_time": "2025-03-04T15:16:25.448638",
     "exception": false,
     "start_time": "2025-03-04T15:16:25.438693",
     "status": "completed"
    },
    "tags": []
   },
   "source": [
    "# 5a.\n",
    "\n",
    "The boolean variables `ketchup`, `mustard` and `onion` represent whether a customer wants a particular topping on their hot dog. We want to implement a number of boolean functions that correspond to some yes-or-no questions about the customer's order. For example:"
   ]
  },
  {
   "cell_type": "code",
   "execution_count": 12,
   "id": "eb1a7c94",
   "metadata": {
    "execution": {
     "iopub.execute_input": "2025-03-04T15:16:25.468664Z",
     "iopub.status.busy": "2025-03-04T15:16:25.468253Z",
     "iopub.status.idle": "2025-03-04T15:16:25.473103Z",
     "shell.execute_reply": "2025-03-04T15:16:25.471941Z"
    },
    "papermill": {
     "duration": 0.01694,
     "end_time": "2025-03-04T15:16:25.475051",
     "exception": false,
     "start_time": "2025-03-04T15:16:25.458111",
     "status": "completed"
    },
    "tags": []
   },
   "outputs": [],
   "source": [
    "def onionless(ketchup, mustard, onion):\n",
    "    \"\"\"Return whether the customer doesn't want onions.\n",
    "    \"\"\"\n",
    "    return not onion"
   ]
  },
  {
   "cell_type": "code",
   "execution_count": 13,
   "id": "8b8df916",
   "metadata": {
    "execution": {
     "iopub.execute_input": "2025-03-04T15:16:25.496140Z",
     "iopub.status.busy": "2025-03-04T15:16:25.495779Z",
     "iopub.status.idle": "2025-03-04T15:16:25.503746Z",
     "shell.execute_reply": "2025-03-04T15:16:25.502744Z"
    },
    "papermill": {
     "duration": 0.020155,
     "end_time": "2025-03-04T15:16:25.505344",
     "exception": false,
     "start_time": "2025-03-04T15:16:25.485189",
     "status": "completed"
    },
    "tags": []
   },
   "outputs": [
    {
     "data": {
      "application/javascript": [
       "parent.postMessage({\"jupyterEvent\": \"custom.exercise_interaction\", \"data\": {\"outcomeType\": 1, \"valueTowardsCompletion\": 0.2, \"interactionType\": 1, \"questionType\": 2, \"questionId\": \"5.1_AllToppings\", \"learnToolsVersion\": \"0.3.4\", \"failureMessage\": \"\", \"exceptionClass\": \"\", \"trace\": \"\"}}, \"*\")"
      ],
      "text/plain": [
       "<IPython.core.display.Javascript object>"
      ]
     },
     "metadata": {},
     "output_type": "display_data"
    },
    {
     "data": {
      "text/markdown": [
       "<span style=\"color:#33cc33\">Correct</span>"
      ],
      "text/plain": [
       "Correct"
      ]
     },
     "metadata": {},
     "output_type": "display_data"
    }
   ],
   "source": [
    "def wants_all_toppings(ketchup, mustard, onion):\n",
    "    \"\"\"Return whether the customer wants \"the works\" (all 3 toppings)\n",
    "    \"\"\"\n",
    "    return ketchup and mustard and onion \n",
    "\n",
    "# Check your answer\n",
    "q5.a.check()"
   ]
  },
  {
   "cell_type": "code",
   "execution_count": 14,
   "id": "0b30d4cd",
   "metadata": {
    "execution": {
     "iopub.execute_input": "2025-03-04T15:16:25.526061Z",
     "iopub.status.busy": "2025-03-04T15:16:25.525701Z",
     "iopub.status.idle": "2025-03-04T15:16:25.529741Z",
     "shell.execute_reply": "2025-03-04T15:16:25.528694Z"
    },
    "papermill": {
     "duration": 0.016095,
     "end_time": "2025-03-04T15:16:25.531356",
     "exception": false,
     "start_time": "2025-03-04T15:16:25.515261",
     "status": "completed"
    },
    "tags": []
   },
   "outputs": [],
   "source": [
    "# q5.a.hint()\n",
    "# q5.a.solution()"
   ]
  },
  {
   "cell_type": "markdown",
   "id": "f4aa0f8a",
   "metadata": {
    "papermill": {
     "duration": 0.009126,
     "end_time": "2025-03-04T15:16:25.550546",
     "exception": false,
     "start_time": "2025-03-04T15:16:25.541420",
     "status": "completed"
    },
    "tags": []
   },
   "source": [
    "# 5b.\n",
    "\n",
    "For the next function, fill in the body to match the English description in the docstring. "
   ]
  },
  {
   "cell_type": "code",
   "execution_count": 15,
   "id": "f3a518f2",
   "metadata": {
    "execution": {
     "iopub.execute_input": "2025-03-04T15:16:25.571339Z",
     "iopub.status.busy": "2025-03-04T15:16:25.570983Z",
     "iopub.status.idle": "2025-03-04T15:16:25.579147Z",
     "shell.execute_reply": "2025-03-04T15:16:25.578074Z"
    },
    "papermill": {
     "duration": 0.021072,
     "end_time": "2025-03-04T15:16:25.581165",
     "exception": false,
     "start_time": "2025-03-04T15:16:25.560093",
     "status": "completed"
    },
    "tags": []
   },
   "outputs": [
    {
     "data": {
      "application/javascript": [
       "parent.postMessage({\"jupyterEvent\": \"custom.exercise_interaction\", \"data\": {\"outcomeType\": 1, \"valueTowardsCompletion\": 0.2, \"interactionType\": 1, \"questionType\": 2, \"questionId\": \"5.2_PlainDog\", \"learnToolsVersion\": \"0.3.4\", \"failureMessage\": \"\", \"exceptionClass\": \"\", \"trace\": \"\"}}, \"*\")"
      ],
      "text/plain": [
       "<IPython.core.display.Javascript object>"
      ]
     },
     "metadata": {},
     "output_type": "display_data"
    },
    {
     "data": {
      "text/markdown": [
       "<span style=\"color:#33cc33\">Correct:</span> \n",
       "\n",
       "One solution looks like:\n",
       "```python\n",
       "return not ketchup and not mustard and not onion\n",
       "```\n",
       "\n",
       "We can also [\"factor out\" the nots](https://en.wikipedia.org/wiki/De_Morgan%27s_laws) to get:\n",
       "\n",
       "```python\n",
       "return not (ketchup or mustard or onion)\n",
       "```"
      ],
      "text/plain": [
       "Correct: \n",
       "\n",
       "One solution looks like:\n",
       "```python\n",
       "return not ketchup and not mustard and not onion\n",
       "```\n",
       "\n",
       "We can also [\"factor out\" the nots](https://en.wikipedia.org/wiki/De_Morgan%27s_laws) to get:\n",
       "\n",
       "```python\n",
       "return not (ketchup or mustard or onion)\n",
       "```"
      ]
     },
     "metadata": {},
     "output_type": "display_data"
    }
   ],
   "source": [
    "def wants_plain_hotdog(ketchup, mustard, onion):\n",
    "    \"\"\"Return whether the customer wants a plain hot dog with no toppings.\n",
    "    \"\"\"\n",
    "    return not(ketchup or mustard or onion)\n",
    "\n",
    "# Check your answer\n",
    "q5.b.check()"
   ]
  },
  {
   "cell_type": "code",
   "execution_count": 16,
   "id": "d7dc2673",
   "metadata": {
    "execution": {
     "iopub.execute_input": "2025-03-04T15:16:25.602537Z",
     "iopub.status.busy": "2025-03-04T15:16:25.602123Z",
     "iopub.status.idle": "2025-03-04T15:16:25.606216Z",
     "shell.execute_reply": "2025-03-04T15:16:25.605226Z"
    },
    "papermill": {
     "duration": 0.016694,
     "end_time": "2025-03-04T15:16:25.607892",
     "exception": false,
     "start_time": "2025-03-04T15:16:25.591198",
     "status": "completed"
    },
    "tags": []
   },
   "outputs": [],
   "source": [
    "#q5.b.hint()\n",
    "#q5.b.solution()"
   ]
  },
  {
   "cell_type": "markdown",
   "id": "d1dcd125",
   "metadata": {
    "papermill": {
     "duration": 0.009667,
     "end_time": "2025-03-04T15:16:25.627926",
     "exception": false,
     "start_time": "2025-03-04T15:16:25.618259",
     "status": "completed"
    },
    "tags": []
   },
   "source": [
    "# 5c.\n",
    "\n",
    "You know what to do: for the next function, fill in the body to match the English description in the docstring."
   ]
  },
  {
   "cell_type": "code",
   "execution_count": 17,
   "id": "b3e9ae28",
   "metadata": {
    "execution": {
     "iopub.execute_input": "2025-03-04T15:16:25.649055Z",
     "iopub.status.busy": "2025-03-04T15:16:25.648680Z",
     "iopub.status.idle": "2025-03-04T15:16:25.656513Z",
     "shell.execute_reply": "2025-03-04T15:16:25.655644Z"
    },
    "papermill": {
     "duration": 0.020157,
     "end_time": "2025-03-04T15:16:25.658172",
     "exception": false,
     "start_time": "2025-03-04T15:16:25.638015",
     "status": "completed"
    },
    "tags": []
   },
   "outputs": [
    {
     "data": {
      "application/javascript": [
       "parent.postMessage({\"jupyterEvent\": \"custom.exercise_interaction\", \"data\": {\"outcomeType\": 1, \"valueTowardsCompletion\": 0.2, \"interactionType\": 1, \"questionType\": 2, \"questionId\": \"5.3_OneSauce\", \"learnToolsVersion\": \"0.3.4\", \"failureMessage\": \"\", \"exceptionClass\": \"\", \"trace\": \"\"}}, \"*\")"
      ],
      "text/plain": [
       "<IPython.core.display.Javascript object>"
      ]
     },
     "metadata": {},
     "output_type": "display_data"
    },
    {
     "data": {
      "text/markdown": [
       "<span style=\"color:#33cc33\">Correct</span>"
      ],
      "text/plain": [
       "Correct"
      ]
     },
     "metadata": {},
     "output_type": "display_data"
    }
   ],
   "source": [
    "def exactly_one_sauce(ketchup, mustard, onion):\n",
    "    \"\"\"Return whether the customer wants either ketchup or mustard, but not both.\n",
    "    (You may be familiar with this operation under the name \"exclusive or\")\n",
    "    \"\"\"\n",
    "    return (ketchup and not mustard) or (not ketchup and mustard)\n",
    "\n",
    "# Check your answer\n",
    "q5.c.check()"
   ]
  },
  {
   "cell_type": "code",
   "execution_count": 18,
   "id": "3e531e38",
   "metadata": {
    "execution": {
     "iopub.execute_input": "2025-03-04T15:16:25.680366Z",
     "iopub.status.busy": "2025-03-04T15:16:25.679964Z",
     "iopub.status.idle": "2025-03-04T15:16:25.687418Z",
     "shell.execute_reply": "2025-03-04T15:16:25.686201Z"
    },
    "papermill": {
     "duration": 0.021042,
     "end_time": "2025-03-04T15:16:25.689259",
     "exception": false,
     "start_time": "2025-03-04T15:16:25.668217",
     "status": "completed"
    },
    "tags": []
   },
   "outputs": [
    {
     "data": {
      "application/javascript": [
       "parent.postMessage({\"jupyterEvent\": \"custom.exercise_interaction\", \"data\": {\"interactionType\": 3, \"questionType\": 2, \"questionId\": \"5.3_OneSauce\", \"learnToolsVersion\": \"0.3.4\", \"valueTowardsCompletion\": 0.0, \"failureMessage\": \"\", \"exceptionClass\": \"\", \"trace\": \"\", \"outcomeType\": 4}}, \"*\")"
      ],
      "text/plain": [
       "<IPython.core.display.Javascript object>"
      ]
     },
     "metadata": {},
     "output_type": "display_data"
    },
    {
     "data": {
      "text/markdown": [
       "<span style=\"color:#33cc99\">Solution:</span> \n",
       "```python\n",
       "return (ketchup and not mustard) or (mustard and not ketchup)\n",
       "```"
      ],
      "text/plain": [
       "Solution: \n",
       "```python\n",
       "return (ketchup and not mustard) or (mustard and not ketchup)\n",
       "```"
      ]
     },
     "metadata": {},
     "output_type": "display_data"
    }
   ],
   "source": [
    "#q5.c.hint()\n",
    "q5.c.solution()"
   ]
  },
  {
   "cell_type": "markdown",
   "id": "367faec5",
   "metadata": {
    "papermill": {
     "duration": 0.010612,
     "end_time": "2025-03-04T15:16:25.710417",
     "exception": false,
     "start_time": "2025-03-04T15:16:25.699805",
     "status": "completed"
    },
    "tags": []
   },
   "source": [
    "# 6. <span title=\"A bit spicy\" style=\"color: darkgreen \">🌶️</span>\n",
    "\n",
    "We’ve seen that calling `bool()` on an integer returns `False` if it’s equal to 0 and `True` otherwise. What happens if we call `int()` on a bool? Try it out in the notebook cell below.\n",
    "\n",
    "Can you take advantage of this to write a succinct function that corresponds to the English sentence \"does the customer want exactly one topping?\"?"
   ]
  },
  {
   "cell_type": "code",
   "execution_count": 19,
   "id": "2fb2940a",
   "metadata": {
    "execution": {
     "iopub.execute_input": "2025-03-04T15:16:25.732586Z",
     "iopub.status.busy": "2025-03-04T15:16:25.732146Z",
     "iopub.status.idle": "2025-03-04T15:16:25.740954Z",
     "shell.execute_reply": "2025-03-04T15:16:25.739730Z"
    },
    "papermill": {
     "duration": 0.022291,
     "end_time": "2025-03-04T15:16:25.742941",
     "exception": false,
     "start_time": "2025-03-04T15:16:25.720650",
     "status": "completed"
    },
    "tags": []
   },
   "outputs": [
    {
     "data": {
      "application/javascript": [
       "parent.postMessage({\"jupyterEvent\": \"custom.exercise_interaction\", \"data\": {\"outcomeType\": 1, \"valueTowardsCompletion\": 0.2, \"interactionType\": 1, \"questionType\": 2, \"questionId\": \"6_OneTopping\", \"learnToolsVersion\": \"0.3.4\", \"failureMessage\": \"\", \"exceptionClass\": \"\", \"trace\": \"\"}}, \"*\")"
      ],
      "text/plain": [
       "<IPython.core.display.Javascript object>"
      ]
     },
     "metadata": {},
     "output_type": "display_data"
    },
    {
     "data": {
      "text/markdown": [
       "<span style=\"color:#33cc33\">Correct:</span> \n",
       "\n",
       "This condition would be pretty complicated to express using just `and`, `or` and `not`, but using boolean-to-integer conversion gives us this short solution:\n",
       "```python\n",
       "return (int(ketchup) + int(mustard) + int(onion)) == 1\n",
       "```\n",
       "\n",
       "Fun fact: we don't technically need to call `int` on the arguments. Just by doing addition with booleans, Python implicitly does the integer conversion. So we could also write...\n",
       "\n",
       "```python\n",
       "return (ketchup + mustard + onion) == 1\n",
       "```"
      ],
      "text/plain": [
       "Correct: \n",
       "\n",
       "This condition would be pretty complicated to express using just `and`, `or` and `not`, but using boolean-to-integer conversion gives us this short solution:\n",
       "```python\n",
       "return (int(ketchup) + int(mustard) + int(onion)) == 1\n",
       "```\n",
       "\n",
       "Fun fact: we don't technically need to call `int` on the arguments. Just by doing addition with booleans, Python implicitly does the integer conversion. So we could also write...\n",
       "\n",
       "```python\n",
       "return (ketchup + mustard + onion) == 1\n",
       "```"
      ]
     },
     "metadata": {},
     "output_type": "display_data"
    }
   ],
   "source": [
    "def exactly_one_topping(ketchup, mustard, onion):\n",
    "    \"\"\"Return whether the customer wants exactly one of the three available toppings\n",
    "    on their hot dog.\n",
    "    \"\"\"\n",
    "    return ketchup+ mustard+ onion== 1\n",
    "\n",
    "# Check your answer\n",
    "q6.check()"
   ]
  },
  {
   "cell_type": "code",
   "execution_count": 20,
   "id": "62624bbd",
   "metadata": {
    "execution": {
     "iopub.execute_input": "2025-03-04T15:16:25.766017Z",
     "iopub.status.busy": "2025-03-04T15:16:25.765446Z",
     "iopub.status.idle": "2025-03-04T15:16:25.769971Z",
     "shell.execute_reply": "2025-03-04T15:16:25.768856Z"
    },
    "papermill": {
     "duration": 0.018357,
     "end_time": "2025-03-04T15:16:25.771846",
     "exception": false,
     "start_time": "2025-03-04T15:16:25.753489",
     "status": "completed"
    },
    "tags": []
   },
   "outputs": [],
   "source": [
    "# q6.hint()\n",
    "# q6.solution()"
   ]
  },
  {
   "cell_type": "markdown",
   "id": "031467e6",
   "metadata": {
    "papermill": {
     "duration": 0.010046,
     "end_time": "2025-03-04T15:16:25.792350",
     "exception": false,
     "start_time": "2025-03-04T15:16:25.782304",
     "status": "completed"
    },
    "tags": []
   },
   "source": [
    "# 7. <span title=\"A bit spicy\" style=\"color: darkgreen \">🌶️</span> (Optional)\n",
    "\n",
    "In this problem we'll be working with a simplified version of [blackjack](https://en.wikipedia.org/wiki/Blackjack) (aka twenty-one). In this version there is one player (who you'll control) and a dealer. Play proceeds as follows:\n",
    "\n",
    "- The player is dealt two face-up cards. The dealer is dealt one face-up card.\n",
    "- The player may ask to be dealt another card ('hit') as many times as they wish. If the sum of their cards exceeds 21, they lose the round immediately.\n",
    "- The dealer then deals additional cards to himself until either:\n",
    "    - the sum of the dealer's cards exceeds 21, in which case the player wins the round\n",
    "    - the sum of the dealer's cards is greater than or equal to 17. If the player's total is greater than the dealer's, the player wins. Otherwise, the dealer wins (even in case of a tie).\n",
    "    \n",
    "When calculating the sum of cards, Jack, Queen, and King count for 10. Aces can count as 1 or 11 (when referring to a player's \"total\" above, we mean the largest total that can be made without exceeding 21. So e.g. A+8 = 19, A+8+8 = 17)\n",
    "\n",
    "For this problem, you'll write a function representing the player's decision-making strategy in this game. We've provided a very unintelligent implementation below:"
   ]
  },
  {
   "cell_type": "code",
   "execution_count": 21,
   "id": "81610798",
   "metadata": {
    "execution": {
     "iopub.execute_input": "2025-03-04T15:16:25.814536Z",
     "iopub.status.busy": "2025-03-04T15:16:25.814146Z",
     "iopub.status.idle": "2025-03-04T15:16:25.820228Z",
     "shell.execute_reply": "2025-03-04T15:16:25.819094Z"
    },
    "papermill": {
     "duration": 0.019382,
     "end_time": "2025-03-04T15:16:25.822188",
     "exception": false,
     "start_time": "2025-03-04T15:16:25.802806",
     "status": "completed"
    },
    "tags": []
   },
   "outputs": [],
   "source": [
    "def should_hit(dealer_total, player_total, player_low_aces, player_high_aces):\n",
    "    \"\"\"Return True if the player should hit (request another card) given the current game\n",
    "    state, or False if the player should stay.\n",
    "    When calculating a hand's total value, we count aces as \"high\" (with value 11) if doing so\n",
    "    doesn't bring the total above 21, otherwise we count them as low (with value 1). \n",
    "    For example, if the player's hand is {A, A, A, 7}, we will count it as 11 + 1 + 1 + 7,\n",
    "    and therefore set player_total=20, player_low_aces=2, player_high_aces=1.\n",
    "    \"\"\"\n",
    "    if player_total == 21:\n",
    "        return False\n",
    "    \n",
    "    # If player's total is 11 or less, always hit\n",
    "    if player_total <= 11:\n",
    "        return True\n",
    "    \n",
    "    # If player has a soft hand (high ace) and total is 17 or lower, consider dealer's upcard\n",
    "    if player_high_aces > 0:\n",
    "        if player_total <= 17:\n",
    "            return True\n",
    "        elif player_total == 18:\n",
    "            if dealer_total in [9, 10, 11]:  # Hit against strong dealer cards\n",
    "                return True\n",
    "            else:\n",
    "                return False  # Stand otherwise\n",
    "    \n",
    "    # If player has a hard hand (no high ace) and total is 12-16\n",
    "    # Consider the dealer's card for decision making\n",
    "    if 12 <= player_total <= 16:\n",
    "        if dealer_total >= 7:\n",
    "            return True  # Hit if dealer has a strong card\n",
    "        else:\n",
    "            return False  # Stand if dealer has a weak card (2-6)\n",
    "    \n",
    "    # If player's total is 17 or higher, they should stand\n",
    "    return False"
   ]
  },
  {
   "cell_type": "markdown",
   "id": "594ed307",
   "metadata": {
    "papermill": {
     "duration": 0.010391,
     "end_time": "2025-03-04T15:16:25.843221",
     "exception": false,
     "start_time": "2025-03-04T15:16:25.832830",
     "status": "completed"
    },
    "tags": []
   },
   "source": [
    "This very conservative agent *always* sticks with the hand of two cards that they're dealt.\n",
    "\n",
    "We'll be simulating games between your player agent and our own dealer agent by calling your function.\n",
    "\n",
    "Try running the function below to see an example of a simulated game:"
   ]
  },
  {
   "cell_type": "code",
   "execution_count": 22,
   "id": "bc908d20",
   "metadata": {
    "execution": {
     "iopub.execute_input": "2025-03-04T15:16:25.865784Z",
     "iopub.status.busy": "2025-03-04T15:16:25.865367Z",
     "iopub.status.idle": "2025-03-04T15:16:25.871247Z",
     "shell.execute_reply": "2025-03-04T15:16:25.869728Z"
    },
    "papermill": {
     "duration": 0.019082,
     "end_time": "2025-03-04T15:16:25.872968",
     "exception": false,
     "start_time": "2025-03-04T15:16:25.853886",
     "status": "completed"
    },
    "tags": []
   },
   "outputs": [
    {
     "name": "stdout",
     "output_type": "stream",
     "text": [
      "Player starts with 3 and 6 (total = 9)\n",
      "Dealer starts with 6\n",
      "\n",
      "__Player's turn__\n",
      "Player hits and receives J. (total = 19)\n",
      "Player stays\n",
      "\n",
      "__Dealer's turn__\n",
      "Dealer hits and receives 9. (total = 15)\n",
      "Dealer hits and receives 4. (total = 19)\n",
      "Dealer stands.\n",
      "Dealer wins. 19 >= 19\n"
     ]
    }
   ],
   "source": [
    "q7.simulate_one_game()"
   ]
  },
  {
   "cell_type": "markdown",
   "id": "d6314a58",
   "metadata": {
    "papermill": {
     "duration": 0.010397,
     "end_time": "2025-03-04T15:16:25.894057",
     "exception": false,
     "start_time": "2025-03-04T15:16:25.883660",
     "status": "completed"
    },
    "tags": []
   },
   "source": [
    "The real test of your agent's mettle is their average win rate over many games. Try calling the function below to simulate 50000 games of blackjack (it may take a couple seconds):"
   ]
  },
  {
   "cell_type": "code",
   "execution_count": 23,
   "id": "2fc1f179",
   "metadata": {
    "execution": {
     "iopub.execute_input": "2025-03-04T15:16:25.916547Z",
     "iopub.status.busy": "2025-03-04T15:16:25.916134Z",
     "iopub.status.idle": "2025-03-04T15:16:27.135726Z",
     "shell.execute_reply": "2025-03-04T15:16:27.134297Z"
    },
    "papermill": {
     "duration": 1.232919,
     "end_time": "2025-03-04T15:16:27.137658",
     "exception": false,
     "start_time": "2025-03-04T15:16:25.904739",
     "status": "completed"
    },
    "tags": []
   },
   "outputs": [
    {
     "name": "stdout",
     "output_type": "stream",
     "text": [
      "Player won 21476 out of 50000 games (win rate = 43.0%)\n"
     ]
    }
   ],
   "source": [
    "q7.simulate(n_games=50000)"
   ]
  },
  {
   "cell_type": "markdown",
   "id": "5a977f16",
   "metadata": {
    "papermill": {
     "duration": 0.010343,
     "end_time": "2025-03-04T15:16:27.158965",
     "exception": false,
     "start_time": "2025-03-04T15:16:27.148622",
     "status": "completed"
    },
    "tags": []
   },
   "source": [
    "Our dumb agent that completely ignores the game state still manages to win shockingly often!\n",
    "\n",
    "Try adding some more smarts to the `should_hit` function and see how it affects the results."
   ]
  },
  {
   "cell_type": "code",
   "execution_count": 24,
   "id": "ec935ffb",
   "metadata": {
    "execution": {
     "iopub.execute_input": "2025-03-04T15:16:27.181674Z",
     "iopub.status.busy": "2025-03-04T15:16:27.181258Z",
     "iopub.status.idle": "2025-03-04T15:16:28.464819Z",
     "shell.execute_reply": "2025-03-04T15:16:28.462922Z"
    },
    "papermill": {
     "duration": 1.297217,
     "end_time": "2025-03-04T15:16:28.466928",
     "exception": false,
     "start_time": "2025-03-04T15:16:27.169711",
     "status": "completed"
    },
    "tags": []
   },
   "outputs": [
    {
     "name": "stdout",
     "output_type": "stream",
     "text": [
      "Player won 21461 out of 50000 games (win rate = 42.9%)\n"
     ]
    }
   ],
   "source": [
    "def should_hit(dealer_total, player_total, player_low_aces, player_high_aces):\n",
    "    \"\"\"Return True if the player should hit (request another card) given the current game\n",
    "    state, or False if the player should stay.\n",
    "    When calculating a hand's total value, we count aces as \"high\" (with value 11) if doing so\n",
    "    doesn't bring the total above 21, otherwise we count them as low (with value 1). \n",
    "    For example, if the player's hand is {A, A, A, 7}, we will count it as 11 + 1 + 1 + 7,\n",
    "    and therefore set player_total=20, player_low_aces=2, player_high_aces=1.\n",
    "    \"\"\"\n",
    "        # If player's total is exactly 21, they should never hit\n",
    "    if player_total == 21:\n",
    "        return False\n",
    "    \n",
    "    # If player's total is 11 or less, always hit\n",
    "    if player_total <= 11:\n",
    "        return True\n",
    "    \n",
    "    # If player has a soft hand (high ace) and total is 18 or lower, consider dealer's upcard\n",
    "    if player_high_aces > 0:\n",
    "        if player_total <= 17:\n",
    "            return True\n",
    "        elif player_total == 18:\n",
    "            if dealer_total in [2, 7, 8]:  # Stand against weak dealer cards\n",
    "                return False\n",
    "            else:  # Hit against stronger dealer cards\n",
    "                return True\n",
    "    \n",
    "    # If player has a hard hand (no high ace) and total is 12-16\n",
    "    # Consider the dealer's card for decision making\n",
    "    if 12 <= player_total <= 16:\n",
    "        if dealer_total in [2, 3]:\n",
    "            return False  # Stand against weaker dealer hands\n",
    "        elif dealer_total >= 7:\n",
    "            return True  # Hit if dealer has a strong card\n",
    "        else:\n",
    "            return False  # Stand if dealer has a moderate card (4-6)\n",
    "    \n",
    "    # If player's total is 17 or higher, they should stand\n",
    "    if player_total == 17 and dealer_total == 11:\n",
    "        return True  # Consider hitting on a hard 17 vs dealer Ace for better win rate\n",
    "    \n",
    "    return False\n",
    "    return False\n",
    "\n",
    "q7.simulate(n_games=50000)"
   ]
  },
  {
   "cell_type": "markdown",
   "id": "c1ca99b5",
   "metadata": {
    "papermill": {
     "duration": 0.012342,
     "end_time": "2025-03-04T15:16:28.491620",
     "exception": false,
     "start_time": "2025-03-04T15:16:28.479278",
     "status": "completed"
    },
    "tags": []
   },
   "source": [
    "# Keep Going\n",
    "\n",
    "Learn about **[lists and tuples](https://www.kaggle.com/colinmorris/lists)** to handle multiple items of data in a systematic way."
   ]
  },
  {
   "cell_type": "markdown",
   "id": "27cb5769",
   "metadata": {
    "papermill": {
     "duration": 0.015736,
     "end_time": "2025-03-04T15:16:28.528274",
     "exception": false,
     "start_time": "2025-03-04T15:16:28.512538",
     "status": "completed"
    },
    "tags": []
   },
   "source": [
    "---\n",
    "\n",
    "\n",
    "\n",
    "\n",
    "*Have questions or comments? Visit the [course discussion forum](https://www.kaggle.com/learn/python/discussion) to chat with other learners.*"
   ]
  }
 ],
 "metadata": {
  "kaggle": {
   "accelerator": "none",
   "dataSources": [],
   "isGpuEnabled": false,
   "isInternetEnabled": false,
   "language": "python",
   "sourceType": "notebook"
  },
  "kernelspec": {
   "display_name": "Python 3",
   "language": "python",
   "name": "python3"
  },
  "language_info": {
   "codemirror_mode": {
    "name": "ipython",
    "version": 3
   },
   "file_extension": ".py",
   "mimetype": "text/x-python",
   "name": "python",
   "nbconvert_exporter": "python",
   "pygments_lexer": "ipython3",
   "version": "3.10.12"
  },
  "learntools_metadata": {
   "lesson_index": 2,
   "type": "exercise"
  },
  "papermill": {
   "default_parameters": {},
   "duration": 8.171974,
   "end_time": "2025-03-04T15:16:29.172354",
   "environment_variables": {},
   "exception": null,
   "input_path": "__notebook__.ipynb",
   "output_path": "__notebook__.ipynb",
   "parameters": {},
   "start_time": "2025-03-04T15:16:21.000380",
   "version": "2.6.0"
  }
 },
 "nbformat": 4,
 "nbformat_minor": 5
}
