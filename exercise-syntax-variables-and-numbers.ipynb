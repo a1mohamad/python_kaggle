{
 "cells": [
  {
   "cell_type": "markdown",
   "id": "9a629718",
   "metadata": {
    "papermill": {
     "duration": 0.00609,
     "end_time": "2025-02-27T18:13:37.562725",
     "exception": false,
     "start_time": "2025-02-27T18:13:37.556635",
     "status": "completed"
    },
    "tags": []
   },
   "source": [
    "**This notebook is an exercise in the [Python](https://www.kaggle.com/learn/python) course.  You can reference the tutorial at [this link](https://www.kaggle.com/colinmorris/hello-python).**\n",
    "\n",
    "---\n"
   ]
  },
  {
   "cell_type": "markdown",
   "id": "afa57382",
   "metadata": {
    "papermill": {
     "duration": 0.005018,
     "end_time": "2025-02-27T18:13:37.573432",
     "exception": false,
     "start_time": "2025-02-27T18:13:37.568414",
     "status": "completed"
    },
    "tags": []
   },
   "source": [
    "Welcome to your first set of Python coding problems.  If this is your first time using Kaggle Notebooks, welcome! \n",
    "\n",
    "Notebooks are composed of blocks (called \"cells\") of text and code. Each of these is editable, though you'll mainly be editing the code cells to answer some questions.\n",
    "\n",
    "To get started, try running the code cell below (by pressing the ► button, or clicking on the cell and pressing ctrl+enter on your keyboard)."
   ]
  },
  {
   "cell_type": "code",
   "execution_count": 1,
   "id": "f7afeea6",
   "metadata": {
    "execution": {
     "iopub.execute_input": "2025-02-27T18:13:37.585850Z",
     "iopub.status.busy": "2025-02-27T18:13:37.585365Z",
     "iopub.status.idle": "2025-02-27T18:13:37.592531Z",
     "shell.execute_reply": "2025-02-27T18:13:37.591321Z"
    },
    "papermill": {
     "duration": 0.015604,
     "end_time": "2025-02-27T18:13:37.594204",
     "exception": false,
     "start_time": "2025-02-27T18:13:37.578600",
     "status": "completed"
    },
    "tags": []
   },
   "outputs": [
    {
     "name": "stdout",
     "output_type": "stream",
     "text": [
      "You've successfully run some Python code\n",
      "Congratulations!\n"
     ]
    }
   ],
   "source": [
    "print(\"You've successfully run some Python code\")\n",
    "print(\"Congratulations!\")"
   ]
  },
  {
   "cell_type": "markdown",
   "id": "8cd0f9e9",
   "metadata": {
    "papermill": {
     "duration": 0.005255,
     "end_time": "2025-02-27T18:13:37.605202",
     "exception": false,
     "start_time": "2025-02-27T18:13:37.599947",
     "status": "completed"
    },
    "tags": []
   },
   "source": [
    "Try adding another line of code in the cell above and re-running it. \n",
    "\n",
    "Now let's get a little fancier:  Add a new code cell by clicking on an existing code cell, hitting the escape key, and then hitting the `a` or `b` key.  The `a` key will add a cell above the current cell, and `b` adds a cell below.\n",
    "\n",
    "Great! Now you know how to use Notebooks.\n",
    "\n",
    "Each hands-on exercise starts by setting up our feedback and code checking mechanism. Run the code cell below to do that. Then you'll be ready to move on to question 0."
   ]
  },
  {
   "cell_type": "code",
   "execution_count": 2,
   "id": "cc33d541",
   "metadata": {
    "_kg_hide-input": true,
    "_kg_hide-output": true,
    "execution": {
     "iopub.execute_input": "2025-02-27T18:13:37.617460Z",
     "iopub.status.busy": "2025-02-27T18:13:37.617091Z",
     "iopub.status.idle": "2025-02-27T18:13:38.639116Z",
     "shell.execute_reply": "2025-02-27T18:13:38.637801Z"
    },
    "papermill": {
     "duration": 1.030163,
     "end_time": "2025-02-27T18:13:38.640872",
     "exception": false,
     "start_time": "2025-02-27T18:13:37.610709",
     "status": "completed"
    },
    "tags": []
   },
   "outputs": [
    {
     "name": "stdout",
     "output_type": "stream",
     "text": [
      "Setup complete! You're ready to start question 0.\n"
     ]
    }
   ],
   "source": [
    "from learntools.core import binder; binder.bind(globals())\n",
    "from learntools.python.ex1 import *\n",
    "print(\"Setup complete! You're ready to start question 0.\")"
   ]
  },
  {
   "cell_type": "markdown",
   "id": "5b37e3a2",
   "metadata": {
    "papermill": {
     "duration": 0.005278,
     "end_time": "2025-02-27T18:13:38.652043",
     "exception": false,
     "start_time": "2025-02-27T18:13:38.646765",
     "status": "completed"
    },
    "tags": []
   },
   "source": [
    "# 0.\n",
    "\n",
    "*This is a silly question intended as an introduction to the format we use for hands-on exercises throughout all Kaggle courses.*\n",
    "\n",
    "**What is your favorite color? **\n",
    "\n",
    "To complete this question, create a variable called `color` in the cell below with an appropriate value. The function call `q0.check()` (which we've already provided in the cell below) will check your answer."
   ]
  },
  {
   "cell_type": "code",
   "execution_count": 3,
   "id": "a2ab6b9c",
   "metadata": {
    "execution": {
     "iopub.execute_input": "2025-02-27T18:13:38.664481Z",
     "iopub.status.busy": "2025-02-27T18:13:38.663991Z",
     "iopub.status.idle": "2025-02-27T18:13:38.672951Z",
     "shell.execute_reply": "2025-02-27T18:13:38.671862Z"
    },
    "papermill": {
     "duration": 0.01712,
     "end_time": "2025-02-27T18:13:38.674592",
     "exception": false,
     "start_time": "2025-02-27T18:13:38.657472",
     "status": "completed"
    },
    "tags": []
   },
   "outputs": [
    {
     "data": {
      "application/javascript": [
       "parent.postMessage({\"jupyterEvent\": \"custom.exercise_interaction\", \"data\": {\"outcomeType\": 1, \"valueTowardsCompletion\": 0.25, \"interactionType\": 1, \"questionType\": 2, \"questionId\": \"0_ExerciseFormatTutorial\", \"learnToolsVersion\": \"0.3.4\", \"failureMessage\": \"\", \"exceptionClass\": \"\", \"trace\": \"\"}}, \"*\")"
      ],
      "text/plain": [
       "<IPython.core.display.Javascript object>"
      ]
     },
     "metadata": {},
     "output_type": "display_data"
    },
    {
     "data": {
      "text/markdown": [
       "<span style=\"color:#33cc33\">Correct:</span> What?! You got it right without needing a hint or anything? Drats. Well hey, you should still continue to the next step to get some practice asking for a hint and checking solutions. (Even though you obviously don't need any help here.)"
      ],
      "text/plain": [
       "Correct: What?! You got it right without needing a hint or anything? Drats. Well hey, you should still continue to the next step to get some practice asking for a hint and checking solutions. (Even though you obviously don't need any help here.)"
      ]
     },
     "metadata": {},
     "output_type": "display_data"
    }
   ],
   "source": [
    "# create a variable called color with an appropriate value on the line below\n",
    "# (Remember, strings in Python must be enclosed in 'single' or \"double\" quotes)\n",
    "color= \"blue\"\n",
    "\n",
    "# Check your answer\n",
    "q0.check()"
   ]
  },
  {
   "cell_type": "markdown",
   "id": "4b5bb315",
   "metadata": {
    "papermill": {
     "duration": 0.005608,
     "end_time": "2025-02-27T18:13:38.686319",
     "exception": false,
     "start_time": "2025-02-27T18:13:38.680711",
     "status": "completed"
    },
    "tags": []
   },
   "source": [
    "Didn't get the right answer? How do you not even know your own favorite color?!\n",
    "\n",
    "Delete the `#` in the line below to make one of the lines run. You can choose between getting a hint or the full answer by choosing which line to remove the `#` from. \n",
    "\n",
    "Removing the `#` is called uncommenting, because it changes that line from a \"comment\" which Python doesn't run to code, which Python does run."
   ]
  },
  {
   "cell_type": "code",
   "execution_count": 4,
   "id": "c1620a95",
   "metadata": {
    "execution": {
     "iopub.execute_input": "2025-02-27T18:13:38.699339Z",
     "iopub.status.busy": "2025-02-27T18:13:38.698871Z",
     "iopub.status.idle": "2025-02-27T18:13:38.710334Z",
     "shell.execute_reply": "2025-02-27T18:13:38.709333Z"
    },
    "papermill": {
     "duration": 0.019943,
     "end_time": "2025-02-27T18:13:38.712121",
     "exception": false,
     "start_time": "2025-02-27T18:13:38.692178",
     "status": "completed"
    },
    "tags": []
   },
   "outputs": [
    {
     "data": {
      "application/javascript": [
       "parent.postMessage({\"jupyterEvent\": \"custom.exercise_interaction\", \"data\": {\"interactionType\": 2, \"questionType\": 2, \"questionId\": \"0_ExerciseFormatTutorial\", \"learnToolsVersion\": \"0.3.4\", \"valueTowardsCompletion\": 0.0, \"failureMessage\": \"\", \"exceptionClass\": \"\", \"trace\": \"\", \"outcomeType\": 4}}, \"*\")"
      ],
      "text/plain": [
       "<IPython.core.display.Javascript object>"
      ]
     },
     "metadata": {},
     "output_type": "display_data"
    },
    {
     "data": {
      "text/markdown": [
       "<span style=\"color:#3366cc\">Hint:</span> Your favorite color rhymes with *glue*."
      ],
      "text/plain": [
       "Hint: Your favorite color rhymes with *glue*."
      ]
     },
     "metadata": {},
     "output_type": "display_data"
    },
    {
     "data": {
      "application/javascript": [
       "parent.postMessage({\"jupyterEvent\": \"custom.exercise_interaction\", \"data\": {\"interactionType\": 3, \"questionType\": 2, \"questionId\": \"0_ExerciseFormatTutorial\", \"learnToolsVersion\": \"0.3.4\", \"valueTowardsCompletion\": 0.0, \"failureMessage\": \"\", \"exceptionClass\": \"\", \"trace\": \"\", \"outcomeType\": 4}}, \"*\")"
      ],
      "text/plain": [
       "<IPython.core.display.Javascript object>"
      ]
     },
     "metadata": {},
     "output_type": "display_data"
    },
    {
     "data": {
      "text/markdown": [
       "<span style=\"color:#33cc99\">Solution:</span> \n",
       "```python\n",
       "color = \"blue\"\n",
       "```"
      ],
      "text/plain": [
       "Solution: \n",
       "```python\n",
       "color = \"blue\"\n",
       "```"
      ]
     },
     "metadata": {},
     "output_type": "display_data"
    }
   ],
   "source": [
    "q0.hint()\n",
    "q0.solution()"
   ]
  },
  {
   "cell_type": "markdown",
   "id": "ac024838",
   "metadata": {
    "papermill": {
     "duration": 0.006275,
     "end_time": "2025-02-27T18:13:38.724951",
     "exception": false,
     "start_time": "2025-02-27T18:13:38.718676",
     "status": "completed"
    },
    "tags": []
   },
   "source": [
    "The upcoming questions work the same way. The only thing that will change are the question numbers. For the next question, you'll call `q1.check()`, `q1.hint()`, `q1.solution()`, for question 2, you'll call `q2.check()`, and so on."
   ]
  },
  {
   "cell_type": "markdown",
   "id": "a10b1b9a",
   "metadata": {
    "papermill": {
     "duration": 0.005969,
     "end_time": "2025-02-27T18:13:38.737305",
     "exception": false,
     "start_time": "2025-02-27T18:13:38.731336",
     "status": "completed"
    },
    "tags": []
   },
   "source": [
    "<hr/>\n",
    "\n",
    "# 1.\n",
    "\n",
    "Complete the code below. In case it's helpful, here is the table of available arithmetic operations:\n",
    "\n",
    "\n",
    "\n",
    "| Operator     | Name           | Description                                            |\n",
    "|--------------|----------------|--------------------------------------------------------|\n",
    "| ``a + b``    | Addition       | Sum of ``a`` and ``b``                                 |\n",
    "| ``a - b``    | Subtraction    | Difference of ``a`` and ``b``                          |\n",
    "| ``a * b``    | Multiplication | Product of ``a`` and ``b``                             |\n",
    "| ``a / b``    | True division  | Quotient of ``a`` and ``b``                            |\n",
    "| ``a // b``   | Floor division | Quotient of ``a`` and ``b``, removing fractional parts |\n",
    "| ``a % b``    | Modulus        | Integer remainder after division of ``a`` by ``b``     |\n",
    "| ``a ** b``   | Exponentiation | ``a`` raised to the power of ``b``                     |\n",
    "| ``-a``       | Negation       | The negative of ``a``                                  |\n",
    "\n",
    "<span style=\"display:none\"></span>\n"
   ]
  },
  {
   "cell_type": "code",
   "execution_count": 5,
   "id": "78dcd6fe",
   "metadata": {
    "execution": {
     "iopub.execute_input": "2025-02-27T18:13:38.751306Z",
     "iopub.status.busy": "2025-02-27T18:13:38.750879Z",
     "iopub.status.idle": "2025-02-27T18:13:38.759895Z",
     "shell.execute_reply": "2025-02-27T18:13:38.758725Z"
    },
    "papermill": {
     "duration": 0.017864,
     "end_time": "2025-02-27T18:13:38.761525",
     "exception": false,
     "start_time": "2025-02-27T18:13:38.743661",
     "status": "completed"
    },
    "tags": []
   },
   "outputs": [
    {
     "data": {
      "application/javascript": [
       "parent.postMessage({\"jupyterEvent\": \"custom.exercise_interaction\", \"data\": {\"outcomeType\": 1, \"valueTowardsCompletion\": 0.25, \"interactionType\": 1, \"questionType\": 1, \"questionId\": \"1_CircleArea\", \"learnToolsVersion\": \"0.3.4\", \"failureMessage\": \"\", \"exceptionClass\": \"\", \"trace\": \"\"}}, \"*\")"
      ],
      "text/plain": [
       "<IPython.core.display.Javascript object>"
      ]
     },
     "metadata": {},
     "output_type": "display_data"
    },
    {
     "data": {
      "text/markdown": [
       "<span style=\"color:#33cc33\">Correct</span>"
      ],
      "text/plain": [
       "Correct"
      ]
     },
     "metadata": {},
     "output_type": "display_data"
    }
   ],
   "source": [
    "pi = 3.14159 # approximate\n",
    "diameter = 3\n",
    "\n",
    "# Create a variable called 'radius' equal to half the diameter\n",
    "radius= diameter/ 2\n",
    "\n",
    "# Create a variable called 'area', using the formula for the area of a circle: pi times the radius squared\n",
    "area= pi *(radius ** 2)\n",
    "\n",
    "# Check your answer\n",
    "q1.check()"
   ]
  },
  {
   "cell_type": "code",
   "execution_count": 6,
   "id": "3ff1e333",
   "metadata": {
    "execution": {
     "iopub.execute_input": "2025-02-27T18:13:38.776009Z",
     "iopub.status.busy": "2025-02-27T18:13:38.775616Z",
     "iopub.status.idle": "2025-02-27T18:13:38.779400Z",
     "shell.execute_reply": "2025-02-27T18:13:38.778377Z"
    },
    "papermill": {
     "duration": 0.012878,
     "end_time": "2025-02-27T18:13:38.781120",
     "exception": false,
     "start_time": "2025-02-27T18:13:38.768242",
     "status": "completed"
    },
    "tags": []
   },
   "outputs": [],
   "source": [
    "# Uncomment and run the lines below if you need help.\n",
    "#q1.hint()\n",
    "#q1.solution()"
   ]
  },
  {
   "cell_type": "markdown",
   "id": "77f0c82b",
   "metadata": {
    "papermill": {
     "duration": 0.00622,
     "end_time": "2025-02-27T18:13:38.793941",
     "exception": false,
     "start_time": "2025-02-27T18:13:38.787721",
     "status": "completed"
    },
    "tags": []
   },
   "source": [
    "<hr/>\n",
    "\n",
    "# 2.\n",
    "\n",
    "Add code to the following cell to swap variables `a` and `b` (so that `a` refers to the object previously referred to by `b` and vice versa)."
   ]
  },
  {
   "cell_type": "code",
   "execution_count": 7,
   "id": "e20161c2",
   "metadata": {
    "execution": {
     "iopub.execute_input": "2025-02-27T18:13:38.808255Z",
     "iopub.status.busy": "2025-02-27T18:13:38.807881Z",
     "iopub.status.idle": "2025-02-27T18:13:38.816288Z",
     "shell.execute_reply": "2025-02-27T18:13:38.815147Z"
    },
    "papermill": {
     "duration": 0.017454,
     "end_time": "2025-02-27T18:13:38.817876",
     "exception": false,
     "start_time": "2025-02-27T18:13:38.800422",
     "status": "completed"
    },
    "tags": []
   },
   "outputs": [
    {
     "data": {
      "application/javascript": [
       "parent.postMessage({\"jupyterEvent\": \"custom.exercise_interaction\", \"data\": {\"outcomeType\": 1, \"valueTowardsCompletion\": 0.25, \"interactionType\": 1, \"questionType\": 2, \"questionId\": \"2_VariableSwap\", \"learnToolsVersion\": \"0.3.4\", \"failureMessage\": \"\", \"exceptionClass\": \"\", \"trace\": \"\"}}, \"*\")"
      ],
      "text/plain": [
       "<IPython.core.display.Javascript object>"
      ]
     },
     "metadata": {},
     "output_type": "display_data"
    },
    {
     "data": {
      "text/markdown": [
       "<span style=\"color:#33cc33\">Correct:</span> \n",
       "\n",
       "The most straightforward solution is to use a third variable to temporarily store one of the old values. e.g.:\n",
       "\n",
       "    tmp = a\n",
       "    a = b\n",
       "    b = tmp\n",
       "\n",
       "If you've read lots of Python code, you might have seen the following trick to swap two variables in one line:\n",
       "\n",
       "    a, b = b, a\n",
       "\n",
       "We'll demystify this bit of Python magic later when we talk about *tuples*."
      ],
      "text/plain": [
       "Correct: \n",
       "\n",
       "The most straightforward solution is to use a third variable to temporarily store one of the old values. e.g.:\n",
       "\n",
       "    tmp = a\n",
       "    a = b\n",
       "    b = tmp\n",
       "\n",
       "If you've read lots of Python code, you might have seen the following trick to swap two variables in one line:\n",
       "\n",
       "    a, b = b, a\n",
       "\n",
       "We'll demystify this bit of Python magic later when we talk about *tuples*."
      ]
     },
     "metadata": {},
     "output_type": "display_data"
    }
   ],
   "source": [
    "########### Setup code - don't touch this part ######################\n",
    "# If you're curious, these are examples of lists. We'll talk about \n",
    "# them in depth a few lessons from now. For now, just know that they're\n",
    "# yet another type of Python object, like int or float.\n",
    "a = [1, 2, 3]\n",
    "b = [3, 2, 1]\n",
    "q2.store_original_ids()\n",
    "######################################################################\n",
    "\n",
    "# Your code goes here. Swap the values to which a and b refer.\n",
    "# If you get stuck, you can always uncomment one or both of the lines in\n",
    "# the next cell for a hint, or to peek at the solution.\n",
    "a, b= b, a\n",
    "######################################################################\n",
    "\n",
    "# Check your answer\n",
    "q2.check()"
   ]
  },
  {
   "cell_type": "code",
   "execution_count": 8,
   "id": "6b01caa5",
   "metadata": {
    "execution": {
     "iopub.execute_input": "2025-02-27T18:13:38.832674Z",
     "iopub.status.busy": "2025-02-27T18:13:38.832351Z",
     "iopub.status.idle": "2025-02-27T18:13:38.836556Z",
     "shell.execute_reply": "2025-02-27T18:13:38.835487Z"
    },
    "papermill": {
     "duration": 0.013746,
     "end_time": "2025-02-27T18:13:38.838188",
     "exception": false,
     "start_time": "2025-02-27T18:13:38.824442",
     "status": "completed"
    },
    "tags": []
   },
   "outputs": [],
   "source": [
    "#q2.hint()"
   ]
  },
  {
   "cell_type": "code",
   "execution_count": 9,
   "id": "6d91d77a",
   "metadata": {
    "execution": {
     "iopub.execute_input": "2025-02-27T18:13:38.853132Z",
     "iopub.status.busy": "2025-02-27T18:13:38.852734Z",
     "iopub.status.idle": "2025-02-27T18:13:38.857309Z",
     "shell.execute_reply": "2025-02-27T18:13:38.856046Z"
    },
    "papermill": {
     "duration": 0.013863,
     "end_time": "2025-02-27T18:13:38.858991",
     "exception": false,
     "start_time": "2025-02-27T18:13:38.845128",
     "status": "completed"
    },
    "tags": []
   },
   "outputs": [],
   "source": [
    "#q2.solution()"
   ]
  },
  {
   "cell_type": "markdown",
   "id": "f08de84f",
   "metadata": {
    "papermill": {
     "duration": 0.006314,
     "end_time": "2025-02-27T18:13:38.872287",
     "exception": false,
     "start_time": "2025-02-27T18:13:38.865973",
     "status": "completed"
    },
    "tags": []
   },
   "source": [
    "<hr/>\n",
    "\n",
    "# 3a.\n",
    "\n",
    "Add parentheses to the following expression so that it evaluates to 1."
   ]
  },
  {
   "cell_type": "code",
   "execution_count": 10,
   "id": "4770fdf9",
   "metadata": {
    "execution": {
     "iopub.execute_input": "2025-02-27T18:13:38.886776Z",
     "iopub.status.busy": "2025-02-27T18:13:38.886449Z",
     "iopub.status.idle": "2025-02-27T18:13:38.892676Z",
     "shell.execute_reply": "2025-02-27T18:13:38.891460Z"
    },
    "papermill": {
     "duration": 0.015581,
     "end_time": "2025-02-27T18:13:38.894417",
     "exception": false,
     "start_time": "2025-02-27T18:13:38.878836",
     "status": "completed"
    },
    "tags": []
   },
   "outputs": [
    {
     "data": {
      "text/plain": [
       "1"
      ]
     },
     "execution_count": 10,
     "metadata": {},
     "output_type": "execute_result"
    }
   ],
   "source": [
    "(5 - 3) // 2"
   ]
  },
  {
   "cell_type": "code",
   "execution_count": 11,
   "id": "a11d9bc5",
   "metadata": {
    "execution": {
     "iopub.execute_input": "2025-02-27T18:13:38.909382Z",
     "iopub.status.busy": "2025-02-27T18:13:38.909041Z",
     "iopub.status.idle": "2025-02-27T18:13:38.913201Z",
     "shell.execute_reply": "2025-02-27T18:13:38.912043Z"
    },
    "papermill": {
     "duration": 0.01404,
     "end_time": "2025-02-27T18:13:38.915313",
     "exception": false,
     "start_time": "2025-02-27T18:13:38.901273",
     "status": "completed"
    },
    "tags": []
   },
   "outputs": [],
   "source": [
    "#q3.a.hint()"
   ]
  },
  {
   "cell_type": "code",
   "execution_count": 12,
   "id": "1ed39ecb",
   "metadata": {
    "execution": {
     "iopub.execute_input": "2025-02-27T18:13:38.930970Z",
     "iopub.status.busy": "2025-02-27T18:13:38.930601Z",
     "iopub.status.idle": "2025-02-27T18:13:38.937951Z",
     "shell.execute_reply": "2025-02-27T18:13:38.937084Z"
    },
    "papermill": {
     "duration": 0.017248,
     "end_time": "2025-02-27T18:13:38.939650",
     "exception": false,
     "start_time": "2025-02-27T18:13:38.922402",
     "status": "completed"
    },
    "tags": []
   },
   "outputs": [
    {
     "data": {
      "application/javascript": [
       "parent.postMessage({\"jupyterEvent\": \"custom.exercise_interaction\", \"data\": {\"interactionType\": 3, \"questionType\": 4, \"questionId\": \"3.1_ArithmeticParensEasy\", \"learnToolsVersion\": \"0.3.4\", \"valueTowardsCompletion\": 0.0, \"failureMessage\": \"\", \"exceptionClass\": \"\", \"trace\": \"\", \"outcomeType\": 4}}, \"*\")"
      ],
      "text/plain": [
       "<IPython.core.display.Javascript object>"
      ]
     },
     "metadata": {},
     "output_type": "display_data"
    },
    {
     "data": {
      "text/markdown": [
       "<span style=\"color:#33cc99\">Solution:</span> \n",
       "```python\n",
       "(5 - 3) // 2\n",
       "```"
      ],
      "text/plain": [
       "Solution: \n",
       "```python\n",
       "(5 - 3) // 2\n",
       "```"
      ]
     },
     "metadata": {},
     "output_type": "display_data"
    }
   ],
   "source": [
    "# Check your answer (Run this code cell to receive credit!)\n",
    "q3.a.solution()"
   ]
  },
  {
   "cell_type": "markdown",
   "id": "0f95d340",
   "metadata": {
    "papermill": {
     "duration": 0.006746,
     "end_time": "2025-02-27T18:13:38.953614",
     "exception": false,
     "start_time": "2025-02-27T18:13:38.946868",
     "status": "completed"
    },
    "tags": []
   },
   "source": [
    "# 3b.  <span title=\"A bit spicy\" style=\"color: darkgreen \">🌶️</span>\n",
    "\n",
    "<small>Questions, like this one, marked a spicy pepper are a bit harder.</small>\n",
    "\n",
    "Add parentheses to the following expression so that it evaluates to 0."
   ]
  },
  {
   "cell_type": "code",
   "execution_count": 13,
   "id": "9a34a814",
   "metadata": {
    "execution": {
     "iopub.execute_input": "2025-02-27T18:13:38.968693Z",
     "iopub.status.busy": "2025-02-27T18:13:38.968353Z",
     "iopub.status.idle": "2025-02-27T18:13:38.974414Z",
     "shell.execute_reply": "2025-02-27T18:13:38.973369Z"
    },
    "papermill": {
     "duration": 0.015647,
     "end_time": "2025-02-27T18:13:38.976121",
     "exception": false,
     "start_time": "2025-02-27T18:13:38.960474",
     "status": "completed"
    },
    "tags": []
   },
   "outputs": [
    {
     "data": {
      "text/plain": [
       "0"
      ]
     },
     "execution_count": 13,
     "metadata": {},
     "output_type": "execute_result"
    }
   ],
   "source": [
    "(8 - 3) * (2 - (1 + 1))"
   ]
  },
  {
   "cell_type": "code",
   "execution_count": 14,
   "id": "3a54f400",
   "metadata": {
    "execution": {
     "iopub.execute_input": "2025-02-27T18:13:38.992004Z",
     "iopub.status.busy": "2025-02-27T18:13:38.991618Z",
     "iopub.status.idle": "2025-02-27T18:13:38.995677Z",
     "shell.execute_reply": "2025-02-27T18:13:38.994587Z"
    },
    "papermill": {
     "duration": 0.013961,
     "end_time": "2025-02-27T18:13:38.997468",
     "exception": false,
     "start_time": "2025-02-27T18:13:38.983507",
     "status": "completed"
    },
    "tags": []
   },
   "outputs": [],
   "source": [
    "#q3.b.hint()"
   ]
  },
  {
   "cell_type": "code",
   "execution_count": 15,
   "id": "90bb9274",
   "metadata": {
    "execution": {
     "iopub.execute_input": "2025-02-27T18:13:39.013570Z",
     "iopub.status.busy": "2025-02-27T18:13:39.013248Z",
     "iopub.status.idle": "2025-02-27T18:13:39.020647Z",
     "shell.execute_reply": "2025-02-27T18:13:39.019708Z"
    },
    "papermill": {
     "duration": 0.017601,
     "end_time": "2025-02-27T18:13:39.022570",
     "exception": false,
     "start_time": "2025-02-27T18:13:39.004969",
     "status": "completed"
    },
    "tags": []
   },
   "outputs": [
    {
     "data": {
      "application/javascript": [
       "parent.postMessage({\"jupyterEvent\": \"custom.exercise_interaction\", \"data\": {\"interactionType\": 3, \"questionType\": 4, \"questionId\": \"3.2_ArithmeticParensHard\", \"learnToolsVersion\": \"0.3.4\", \"valueTowardsCompletion\": 0.0, \"failureMessage\": \"\", \"exceptionClass\": \"\", \"trace\": \"\", \"outcomeType\": 4}}, \"*\")"
      ],
      "text/plain": [
       "<IPython.core.display.Javascript object>"
      ]
     },
     "metadata": {},
     "output_type": "display_data"
    },
    {
     "data": {
      "text/markdown": [
       "<span style=\"color:#33cc99\">Solution:</span> `(8 - 3) * (2 - (1 + 1))` is one solution. There may be others."
      ],
      "text/plain": [
       "Solution: `(8 - 3) * (2 - (1 + 1))` is one solution. There may be others."
      ]
     },
     "metadata": {},
     "output_type": "display_data"
    }
   ],
   "source": [
    "# Check your answer (Run this code cell to receive credit!)\n",
    "q3.b.solution()"
   ]
  },
  {
   "cell_type": "markdown",
   "id": "f989a403",
   "metadata": {
    "papermill": {
     "duration": 0.007029,
     "end_time": "2025-02-27T18:13:39.037239",
     "exception": false,
     "start_time": "2025-02-27T18:13:39.030210",
     "status": "completed"
    },
    "tags": []
   },
   "source": [
    "<hr/>\n",
    "\n",
    "# 4. \n",
    "Alice, Bob and Carol have agreed to pool their Halloween candy and split it evenly among themselves.\n",
    "For the sake of their friendship, any candies left over will be smashed. For example, if they collectively\n",
    "bring home 91 candies, they'll take 30 each and smash 1.\n",
    "\n",
    "Write an arithmetic expression below to calculate how many candies they must smash for a given haul."
   ]
  },
  {
   "cell_type": "code",
   "execution_count": 16,
   "id": "60bf6027",
   "metadata": {
    "execution": {
     "iopub.execute_input": "2025-02-27T18:13:39.053426Z",
     "iopub.status.busy": "2025-02-27T18:13:39.053084Z",
     "iopub.status.idle": "2025-02-27T18:13:39.060710Z",
     "shell.execute_reply": "2025-02-27T18:13:39.059847Z"
    },
    "papermill": {
     "duration": 0.017634,
     "end_time": "2025-02-27T18:13:39.062272",
     "exception": false,
     "start_time": "2025-02-27T18:13:39.044638",
     "status": "completed"
    },
    "tags": []
   },
   "outputs": [
    {
     "data": {
      "application/javascript": [
       "parent.postMessage({\"jupyterEvent\": \"custom.exercise_interaction\", \"data\": {\"outcomeType\": 1, \"valueTowardsCompletion\": 0.25, \"interactionType\": 1, \"questionType\": 1, \"questionId\": \"4_CandySplitting\", \"learnToolsVersion\": \"0.3.4\", \"failureMessage\": \"\", \"exceptionClass\": \"\", \"trace\": \"\"}}, \"*\")"
      ],
      "text/plain": [
       "<IPython.core.display.Javascript object>"
      ]
     },
     "metadata": {},
     "output_type": "display_data"
    },
    {
     "data": {
      "text/markdown": [
       "<span style=\"color:#33cc33\">Correct</span>"
      ],
      "text/plain": [
       "Correct"
      ]
     },
     "metadata": {},
     "output_type": "display_data"
    }
   ],
   "source": [
    "# Variables representing the number of candies collected by alice, bob, and carol\n",
    "alice_candies = 121\n",
    "bob_candies = 77\n",
    "carol_candies = 109\n",
    "\n",
    "# Your code goes here! Replace the right-hand side of this assignment with an expression\n",
    "# involving alice_candies, bob_candies, and carol_candies\n",
    "to_smash = (alice_candies+ bob_candies+ carol_candies)% 3\n",
    "\n",
    "# Check your answer\n",
    "q4.check()"
   ]
  },
  {
   "cell_type": "code",
   "execution_count": 17,
   "id": "60e7e0e8",
   "metadata": {
    "execution": {
     "iopub.execute_input": "2025-02-27T18:13:39.079068Z",
     "iopub.status.busy": "2025-02-27T18:13:39.078633Z",
     "iopub.status.idle": "2025-02-27T18:13:39.082523Z",
     "shell.execute_reply": "2025-02-27T18:13:39.081458Z"
    },
    "papermill": {
     "duration": 0.014165,
     "end_time": "2025-02-27T18:13:39.084360",
     "exception": false,
     "start_time": "2025-02-27T18:13:39.070195",
     "status": "completed"
    },
    "tags": []
   },
   "outputs": [],
   "source": [
    "#q4.hint()\n",
    "#q4.solution()"
   ]
  },
  {
   "cell_type": "markdown",
   "id": "03d47fc8",
   "metadata": {
    "papermill": {
     "duration": 0.007236,
     "end_time": "2025-02-27T18:13:39.099437",
     "exception": false,
     "start_time": "2025-02-27T18:13:39.092201",
     "status": "completed"
    },
    "tags": []
   },
   "source": [
    "# Keep Going\n",
    "\n",
    "Next up, you'll **[learn to write new functions and understand functions others write](https://www.kaggle.com/colinmorris/functions-and-getting-help)**. This will make you at least 10 times more productive as a Python programmer. "
   ]
  },
  {
   "cell_type": "markdown",
   "id": "806e430d",
   "metadata": {
    "papermill": {
     "duration": 0.007433,
     "end_time": "2025-02-27T18:13:39.114463",
     "exception": false,
     "start_time": "2025-02-27T18:13:39.107030",
     "status": "completed"
    },
    "tags": []
   },
   "source": [
    "---\n",
    "\n",
    "\n",
    "\n",
    "\n",
    "*Have questions or comments? Visit the [course discussion forum](https://www.kaggle.com/learn/python/discussion) to chat with other learners.*"
   ]
  }
 ],
 "metadata": {
  "kaggle": {
   "accelerator": "none",
   "dataSources": [],
   "isGpuEnabled": false,
   "isInternetEnabled": false,
   "language": "python",
   "sourceType": "notebook"
  },
  "kernelspec": {
   "display_name": "Python 3",
   "language": "python",
   "name": "python3"
  },
  "language_info": {
   "codemirror_mode": {
    "name": "ipython",
    "version": 3
   },
   "file_extension": ".py",
   "mimetype": "text/x-python",
   "name": "python",
   "nbconvert_exporter": "python",
   "pygments_lexer": "ipython3",
   "version": "3.10.12"
  },
  "learntools_metadata": {
   "lesson_index": 0,
   "type": "exercise"
  },
  "papermill": {
   "default_parameters": {},
   "duration": 5.512437,
   "end_time": "2025-02-27T18:13:39.742412",
   "environment_variables": {},
   "exception": null,
   "input_path": "__notebook__.ipynb",
   "output_path": "__notebook__.ipynb",
   "parameters": {},
   "start_time": "2025-02-27T18:13:34.229975",
   "version": "2.6.0"
  }
 },
 "nbformat": 4,
 "nbformat_minor": 5
}
